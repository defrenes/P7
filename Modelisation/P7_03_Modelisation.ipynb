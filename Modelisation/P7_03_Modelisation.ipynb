{
 "cells": [
  {
   "cell_type": "markdown",
   "id": "a905cdb1",
   "metadata": {},
   "source": [
    "<div class=\"alert alert-block alert-success\" style=\"text-align:center;\">\n",
    "Formation Data Scientist - Projet n°7 - OpenClassrooms - Christoph Pruvost - avril/mai 2022\n",
    "\n",
    "<center><a href=\"https://openclassrooms.com/fr/paths/164/projects/632/assignment\">https://openclassrooms.com/fr/paths/164/projects/632/assignment</a></center>\n",
    "<!-- <p></p>\n",
    "<ul class=\"last simple\">\n",
    "<li></li> -->\n",
    "</div>\n",
    "\n",
    "# Implémentez un modèle de scoring\n",
    "<div class=\"admonition note alert alert-info\">\n",
    "    <p class=\"first admonition-title\" style=\"font-size:25px;font-weight: bold;text-align:center;\">Modélisation ⚙️</p>\n",
    "<p class=\"last\">&nbsp;\n",
    "<p>Nous sommes Data Scientist au sein d'une société financière, nommée <strong>\"Prêt à dépenser\"</strong>, &nbsp;qui propose des crédits à la consommation pour des personnes ayant peu ou pas du tout d'historique de prêt.</p>\n",
    "\n",
    "<p>L’entreprise souhaite <strong>mettre en œuvre un outil de “scoring crédit” pour calculer la probabilité </strong>qu’un client rembourse son crédit, puis classifie la demande en crédit accordé ou refusé. Elle souhaite donc développer un <strong>algorithme de classification</strong> en s’appuyant sur des sources de données variées (données comportementales, données provenant d'autres institutions financières, etc.).</p>\n",
    "<p>De plus, les chargés de relation client ont fait remonter le fait que les clients sont de plus en plus demandeurs de <strong>transparence</strong> vis-à-vis des décisions d’octroi de crédit. Cette demande de transparence des clients va tout à fait dans le sens des valeurs que l’entreprise veut incarner.</p>\n",
    "<p><strong>Prêt à dépenser </strong>décide donc de <strong>développer un dashboard interactif</strong> pour que les chargés de relation client puissent à la fois expliquer de façon la plus transparente possible les décisions d’octroi de crédit, mais également permettre à leurs clients de disposer de leurs informations personnelles et de les explorer facilement.</p>\n",
    "<br><u><b>Les données</b></u>\n",
    "<p><a href=\"https://www.kaggle.com/c/home-credit-default-risk/data\">Voici les données</a> dont nous aurons besoin pour réaliser le dashboard. Pour plus de simplicité, nous pouvons également les télécharger à <a href=\"https://s3-eu-west-1.amazonaws.com/static.oc-static.com/prod/courses/files/Parcours_data_scientist/Projet+-+Impl%C3%A9menter+un+mod%C3%A8le+de+scoring/Projet+Mise+en+prod+-+home-credit-default-risk.zip\">cette adresse</a>.</p>\n",
    "<br><u><b>Notre mission</b></u>\n",
    "<ol>\n",
    "<li>Construire un modèle de scoring qui donnera une prédiction sur la probabilité de faillite d'un client de façon automatique.</li>\n",
    "<li>Construire un dashboard interactif à destination des gestionnaires de la relation client permettant d'interpréter les prédictions faites par le modèle, et d’améliorer la connaissance client des chargés de relation client.</li>\n",
    "</ol>\n",
    "<p><strong>Michaël</strong>, notre manager, nous incite à sélectionner un kernel Kaggle pour nous faciliter la préparation des données nécessaires à l’élaboration du modèle de scoring. Nous analyserons ce kernel et l’adapterons pour nous assurer qu’il répond aux besoins de votre mission. Nous pourrons ainsi nous focaliser sur l’élaboration du modèle, son optimisation et sa compréhension.</p>\n",
    "&nbsp;\n",
    "<p>Nous allons réaliser ici la <strong>modélisation des données</strong>.&nbsp;\n",
    "</p>\n",
    "</div>\n",
    "\n",
    "*La modélisation s'appuie sur le kernel Kaggle suivant :* https://www.kaggle.com/code/jsaguiar/lightgbm-with-simple-features/script\n"
   ]
  },
  {
   "cell_type": "markdown",
   "id": "3ccc68ae",
   "metadata": {},
   "source": [
    "## Imports et variables\n",
    "Importons les librairies nécessaires à notre analyse et définissons quelques variables globales."
   ]
  },
  {
   "cell_type": "code",
   "execution_count": 1,
   "id": "a8796ee8",
   "metadata": {},
   "outputs": [],
   "source": [
    "import numpy as np\n",
    "import pandas as pd\n",
    "import seaborn as sns\n",
    "import matplotlib as mpl\n",
    "import matplotlib.pyplot as plt\n",
    "import datetime, time, sys, os\n",
    "from contextlib import contextmanager\n",
    "import gc\n",
    "import re\n",
    "import sklearn\n",
    "from sklearn.model_selection import StratifiedKFold, train_test_split, cross_validate, GridSearchCV\n",
    "from sklearn.metrics import make_scorer, accuracy_score, precision_score, recall_score, f1_score,\\\n",
    "                            confusion_matrix, roc_curve, roc_auc_score, RocCurveDisplay, average_precision_score,\\\n",
    "                            ConfusionMatrixDisplay, precision_recall_curve, PrecisionRecallDisplay\n",
    "from sklearn.dummy import DummyClassifier\n",
    "from sklearn.ensemble import RandomForestClassifier, GradientBoostingClassifier\n",
    "from lightgbm import LGBMClassifier\n",
    "from imblearn.over_sampling import SMOTE\n",
    "from imblearn.pipeline import Pipeline as imbpipeline\n",
    "from collections import Counter\n",
    "import joblib"
   ]
  },
  {
   "cell_type": "code",
   "execution_count": 2,
   "id": "57511c49",
   "metadata": {},
   "outputs": [
    {
     "name": "stdout",
     "output_type": "stream",
     "text": [
      "Version des librairies utilisées le 2022-06-13 13:03:03.015955 \n",
      " Python : 3.10.4 | packaged by conda-forge | (main, Mar 24 2022, 17:38:57) [GCC 10.3.0] \n",
      " NumPy : 1.22.3 \n",
      " Pandas : 1.4.2 \n",
      " Matplotlib : 3.5.2 \n",
      " Seaborn : 0.11.2 \n",
      " sklearn : 1.0.2\n"
     ]
    }
   ],
   "source": [
    "# Versions des librairies utilisées :\n",
    "print('Version des librairies utilisées le', datetime.datetime.now(), '\\n',\n",
    "       'Python :', sys.version, '\\n',\n",
    "       'NumPy :',  np.version.full_version, '\\n',\n",
    "       'Pandas :', pd.__version__, '\\n',\n",
    "       'Matplotlib :', mpl.__version__, '\\n',\n",
    "       'Seaborn :', sns.__version__, '\\n',\n",
    "       'sklearn :', sklearn.__version__\n",
    "      )"
   ]
  },
  {
   "cell_type": "code",
   "execution_count": 3,
   "id": "1589b9c1",
   "metadata": {},
   "outputs": [],
   "source": [
    "# Appliquons certaines options globales Pandas et seaborn :\n",
    "pandas_options = {\n",
    "    'display.max_rows': 400,\n",
    "    'display.max_column': 50,\n",
    "    'display.width': 100,\n",
    "    'display.max_colwidth': 2000,  # 200\n",
    "    'display.float_format': '{:,.2f}'.format # arrondi à 2 chiffres après la virgule\n",
    "}\n",
    "\n",
    "for cle, valeur in pandas_options.items():\n",
    "    pd.set_option(cle, valeur)\n",
    "\n",
    "# Agrandissons les polices d'écriture par défaut :\n",
    "# sns.set(font_scale=1.1)\n",
    "# Graphiques avec fond blanc :\n",
    "# sns.set_style(\"white\")"
   ]
  },
  {
   "cell_type": "code",
   "execution_count": 4,
   "id": "97d34d77",
   "metadata": {},
   "outputs": [],
   "source": [
    "# Variables\n",
    "random_state = 82\n",
    "data_dir = '.data'\n",
    "fichier_donnees_pretraitees = \"donnees_pretraitees.ftr\"\n",
    "modele_prod = 'modele_api.joblib'\n",
    "donnees_prod = 'data_prod.ftr' # données destinées à l'API pour l'affichage des données et prédictions.\n",
    "clients_pred_defaut = 'data_prod_pred_TARGET_1.ftr' # liste des clients prédits en defaut, pour le test du tableau de bord"
   ]
  },
  {
   "cell_type": "markdown",
   "id": "8dd1f636",
   "metadata": {},
   "source": [
    "## Chargement des données\n",
    "Chargeons les données prétraitées précédemment et séparons-les données d'entraînement des données de test. Nous ne conservons que les données utiles à l'entraînement, c'est à dire celles où nous avons la valeur cible."
   ]
  },
  {
   "cell_type": "code",
   "execution_count": 5,
   "id": "da56951b",
   "metadata": {},
   "outputs": [
    {
     "ename": "FileNotFoundError",
     "evalue": "[Errno 2] No such file or directory: '.data/donnees_pretraitees.ftr'",
     "output_type": "error",
     "traceback": [
      "\u001b[0;31m---------------------------------------------------------------------------\u001b[0m",
      "\u001b[0;31mFileNotFoundError\u001b[0m                         Traceback (most recent call last)",
      "\u001b[0;32m/tmp/ipykernel_7372/2539279893.py\u001b[0m in \u001b[0;36m<cell line: 1>\u001b[0;34m()\u001b[0m\n\u001b[0;32m----> 1\u001b[0;31m \u001b[0mdf\u001b[0m \u001b[0;34m=\u001b[0m \u001b[0mpd\u001b[0m\u001b[0;34m.\u001b[0m\u001b[0mread_feather\u001b[0m\u001b[0;34m(\u001b[0m\u001b[0mos\u001b[0m\u001b[0;34m.\u001b[0m\u001b[0mpath\u001b[0m\u001b[0;34m.\u001b[0m\u001b[0mjoin\u001b[0m\u001b[0;34m(\u001b[0m\u001b[0mdata_dir\u001b[0m\u001b[0;34m,\u001b[0m \u001b[0mfichier_donnees_pretraitees\u001b[0m\u001b[0;34m)\u001b[0m\u001b[0;34m)\u001b[0m\u001b[0;34m\u001b[0m\u001b[0;34m\u001b[0m\u001b[0m\n\u001b[0m\u001b[1;32m      2\u001b[0m \u001b[0mprint\u001b[0m\u001b[0;34m(\u001b[0m\u001b[0;34m\"Taille du DataFrame avec les données d'entraînement et de test :\\n\"\u001b[0m\u001b[0;34m,\u001b[0m \u001b[0mdf\u001b[0m\u001b[0;34m.\u001b[0m\u001b[0mshape\u001b[0m\u001b[0;34m)\u001b[0m\u001b[0;34m\u001b[0m\u001b[0;34m\u001b[0m\u001b[0m\n\u001b[1;32m      3\u001b[0m \u001b[0;34m\u001b[0m\u001b[0m\n\u001b[1;32m      4\u001b[0m \u001b[0mdf\u001b[0m \u001b[0;34m=\u001b[0m \u001b[0mdf\u001b[0m\u001b[0;34m[\u001b[0m\u001b[0mdf\u001b[0m\u001b[0;34m[\u001b[0m\u001b[0;34m'TARGET'\u001b[0m\u001b[0;34m]\u001b[0m\u001b[0;34m.\u001b[0m\u001b[0mnotna\u001b[0m\u001b[0;34m(\u001b[0m\u001b[0;34m)\u001b[0m\u001b[0;34m]\u001b[0m\u001b[0;34m\u001b[0m\u001b[0;34m\u001b[0m\u001b[0m\n\u001b[1;32m      5\u001b[0m \u001b[0mprint\u001b[0m\u001b[0;34m(\u001b[0m\u001b[0;34m\"Taille du DataFrame avec uniquement les données d'entraînement :\\n\"\u001b[0m\u001b[0;34m,\u001b[0m \u001b[0mdf\u001b[0m\u001b[0;34m.\u001b[0m\u001b[0mshape\u001b[0m\u001b[0;34m)\u001b[0m\u001b[0;34m\u001b[0m\u001b[0;34m\u001b[0m\u001b[0m\n",
      "\u001b[0;32m/mnt/SSD1To-BtrFs/christoph/Data-Science/Anaconda3/envs/flask/lib/python3.10/site-packages/pandas/io/feather_format.py\u001b[0m in \u001b[0;36mread_feather\u001b[0;34m(path, columns, use_threads, storage_options)\u001b[0m\n\u001b[1;32m    126\u001b[0m     \u001b[0;32mfrom\u001b[0m \u001b[0mpyarrow\u001b[0m \u001b[0;32mimport\u001b[0m \u001b[0mfeather\u001b[0m\u001b[0;34m\u001b[0m\u001b[0;34m\u001b[0m\u001b[0m\n\u001b[1;32m    127\u001b[0m \u001b[0;34m\u001b[0m\u001b[0m\n\u001b[0;32m--> 128\u001b[0;31m     with get_handle(\n\u001b[0m\u001b[1;32m    129\u001b[0m         \u001b[0mpath\u001b[0m\u001b[0;34m,\u001b[0m \u001b[0;34m\"rb\"\u001b[0m\u001b[0;34m,\u001b[0m \u001b[0mstorage_options\u001b[0m\u001b[0;34m=\u001b[0m\u001b[0mstorage_options\u001b[0m\u001b[0;34m,\u001b[0m \u001b[0mis_text\u001b[0m\u001b[0;34m=\u001b[0m\u001b[0;32mFalse\u001b[0m\u001b[0;34m\u001b[0m\u001b[0;34m\u001b[0m\u001b[0m\n\u001b[1;32m    130\u001b[0m     ) as handles:\n",
      "\u001b[0;32m/mnt/SSD1To-BtrFs/christoph/Data-Science/Anaconda3/envs/flask/lib/python3.10/site-packages/pandas/io/common.py\u001b[0m in \u001b[0;36mget_handle\u001b[0;34m(path_or_buf, mode, encoding, compression, memory_map, is_text, errors, storage_options)\u001b[0m\n\u001b[1;32m    796\u001b[0m         \u001b[0;32melse\u001b[0m\u001b[0;34m:\u001b[0m\u001b[0;34m\u001b[0m\u001b[0;34m\u001b[0m\u001b[0m\n\u001b[1;32m    797\u001b[0m             \u001b[0;31m# Binary mode\u001b[0m\u001b[0;34m\u001b[0m\u001b[0;34m\u001b[0m\u001b[0m\n\u001b[0;32m--> 798\u001b[0;31m             \u001b[0mhandle\u001b[0m \u001b[0;34m=\u001b[0m \u001b[0mopen\u001b[0m\u001b[0;34m(\u001b[0m\u001b[0mhandle\u001b[0m\u001b[0;34m,\u001b[0m \u001b[0mioargs\u001b[0m\u001b[0;34m.\u001b[0m\u001b[0mmode\u001b[0m\u001b[0;34m)\u001b[0m\u001b[0;34m\u001b[0m\u001b[0;34m\u001b[0m\u001b[0m\n\u001b[0m\u001b[1;32m    799\u001b[0m         \u001b[0mhandles\u001b[0m\u001b[0;34m.\u001b[0m\u001b[0mappend\u001b[0m\u001b[0;34m(\u001b[0m\u001b[0mhandle\u001b[0m\u001b[0;34m)\u001b[0m\u001b[0;34m\u001b[0m\u001b[0;34m\u001b[0m\u001b[0m\n\u001b[1;32m    800\u001b[0m \u001b[0;34m\u001b[0m\u001b[0m\n",
      "\u001b[0;31mFileNotFoundError\u001b[0m: [Errno 2] No such file or directory: '.data/donnees_pretraitees.ftr'"
     ]
    }
   ],
   "source": [
    "df = pd.read_feather(os.path.join(data_dir, fichier_donnees_pretraitees))\n",
    "print(\"Taille du DataFrame avec les données d'entraînement et de test :\\n\", df.shape)\n",
    "\n",
    "df = df[df['TARGET'].notna()]\n",
    "print(\"Taille du DataFrame avec uniquement les données d'entraînement :\\n\", df.shape)"
   ]
  },
  {
   "cell_type": "code",
   "execution_count": null,
   "id": "1aaed337",
   "metadata": {
    "scrolled": true
   },
   "outputs": [],
   "source": [
    "df.head()"
   ]
  },
  {
   "cell_type": "markdown",
   "id": "3aaa8691",
   "metadata": {},
   "source": [
    "## Préparation du jeu de données"
   ]
  },
  {
   "cell_type": "markdown",
   "id": "c2aa1b17",
   "metadata": {},
   "source": [
    "### Échantillonnage\n",
    "Au cours de la modélisation il s'est avéré qu'en raison de la quantité d'informations, certains modèles nécessitaient 20 à 60min pour une validation croisée. Il a donc été décidé de travailler sur une fraction des données, afin d'accélérer la phase de recherche du meilleur modèle.\n",
    "\n",
    "Observons la quantité d'individus initiale et sa répartition en fonction de la variable à déterminer."
   ]
  },
  {
   "cell_type": "code",
   "execution_count": null,
   "id": "b56aed51",
   "metadata": {
    "scrolled": false
   },
   "outputs": [],
   "source": [
    "def graph_repartition(data):\n",
    "    \"\"\"\n",
    "    Fonction de visualisation de la répartition des classes de la variable cible.\n",
    "    Parameters:\n",
    "    ----------\n",
    "    -data : Series correspondant à la variable cible (df['TARGET']).\n",
    "    \n",
    "    Returns:\n",
    "    None\n",
    "    \"\"\"\n",
    "    repartition = data.value_counts()\n",
    "    display(pd.DataFrame({'Individus': repartition, '% du total':repartition*100/data.shape[0]}))\n",
    "    # Visualisation de la variable cible :\n",
    "    g = sns.countplot(x=data)\n",
    "    g.set_xticklabels(['Bon payeur','Mauvais payeur'])\n",
    "    plt.ylabel(\"Nombre d'individus\")\n",
    "    plt.title(f'Répartition des classes de la variable {data.name}', fontsize=15)\n",
    "    plt.show()"
   ]
  },
  {
   "cell_type": "code",
   "execution_count": null,
   "id": "2cb20104",
   "metadata": {},
   "outputs": [],
   "source": [
    "# Observons la répartition dans df :\n",
    "graph_repartition(df['TARGET'])"
   ]
  },
  {
   "cell_type": "code",
   "execution_count": null,
   "id": "7f22bb37",
   "metadata": {},
   "outputs": [],
   "source": [
    "df_fraction = df.copy()"
   ]
  },
  {
   "cell_type": "code",
   "execution_count": null,
   "id": "49546563",
   "metadata": {},
   "outputs": [],
   "source": [
    "# Prenons un échantillon de 20% des données initiales :\n",
    "df_fraction = df_fraction.sample(frac=0.2, random_state=random_state)"
   ]
  },
  {
   "cell_type": "code",
   "execution_count": null,
   "id": "036c0c55",
   "metadata": {},
   "outputs": [],
   "source": [
    "# Vérifions que la répartition des données de variable cible est toujours la même dans notre échantillon :\n",
    "grcaph_repartition(df_fraction['TARGET'])"
   ]
  },
  {
   "cell_type": "markdown",
   "id": "1c57dba2",
   "metadata": {},
   "source": [
    "### Colonnes à conserver"
   ]
  },
  {
   "cell_type": "code",
   "execution_count": null,
   "id": "3b37ba3a",
   "metadata": {},
   "outputs": [],
   "source": [
    "var_non_predictives = [\"index\", \"SK_ID_CURR\", \"SK_ID_BUREAU\", \"SK_ID_PREV\", \"TARGET\"] \n",
    "var_predictives = [col for col in df.columns if col not in var_non_predictives]\n",
    "\n",
    "X = df_fraction[var_predictives]\n",
    "y = df_fraction['TARGET']"
   ]
  },
  {
   "cell_type": "markdown",
   "id": "618dfddb",
   "metadata": {},
   "source": [
    "### Données d'entraînement et de test\n",
    "Séparation du jeu de données avec les valeurs cibles, en un jeu de données d'entraînement des modèles et un jeu de données de test.\n",
    "\n",
    "Le jeu de données d'entraînement pourra être reéchantillonné par différentes méthodes lors d'une phase d'équilibrage de la valeur cible, tandis que le jeu de données de test sera conservé tel quel pour pouvoir noter les capacités de généralisation des modèles sur des données nouvelles et réelles."
   ]
  },
  {
   "cell_type": "code",
   "execution_count": null,
   "id": "e85c181d",
   "metadata": {
    "scrolled": true
   },
   "outputs": [],
   "source": [
    "X_train, X_test, y_train, y_test = train_test_split(X, y, test_size=0.2, stratify=y, random_state=random_state)\n",
    "print(f\"X : {X.shape}\\ny : {y.shape}\")\n",
    "print('─'*50)\n",
    "print(f\"X_train : {X_train.shape}\\ny_train : {y_train.shape}\")\n",
    "print('─'*50)\n",
    "print(f\"X_test : {X_test.shape}\\ny_test : {y_test.shape}\")"
   ]
  },
  {
   "cell_type": "markdown",
   "id": "6136197e",
   "metadata": {},
   "source": [
    "### Validation croisée\n",
    "Nos validations croisées se feront avec `StratifiedKFold` de façon à préserver le pourcentage d'échantillons de chaque classe à travers les différents plis. Nous évitons ainsi le risque d'avoir des plis où la classe minoritaire serait absente du jeu de données d'apprentissage, empêchant ainsi le modèle d'en tenir compte."
   ]
  },
  {
   "cell_type": "code",
   "execution_count": null,
   "id": "495acab6",
   "metadata": {},
   "outputs": [],
   "source": [
    "skfold = StratifiedKFold(n_splits=5, shuffle=True, random_state=random_state)"
   ]
  },
  {
   "cell_type": "markdown",
   "id": "34db67c1",
   "metadata": {},
   "source": [
    "## Métriques d'évaluation\n",
    "Quelles métriques utiliser pour évaluer nos modèles sur ce jeu de données ? Nous cherchons à minimiser les chances de pertes pour notre entreprise et maximiser les bénéfices.\n",
    "Dans le cadre de la problématique de classification étudiée ici, nous pouvons avoir les 4 cas de figures du tableau ci-dessous :\n",
    "\n",
    "|  |   |  | |\n",
    "|--------------|:-----|:----------:|:---:|\n",
    "|                       | **Classe prédite** | bon payeur (0) | mauvais payeur (1) |\n",
    "| **Classe réelle**     |                    |                |                    |\n",
    "| bon payeur (0)        |                    | Bon payeur<br>**TN**<br>*Vrai négatif*| Mauvais payeur, à tort<br>**FP**<br>*Faux positif*|\n",
    "| mauvais payeur (1) |  | Bon payeur, à tort<br>**FN**<br>*Faux négatif*| Mauvais payeur<br>**TP**<br>*Vrai positif*|\n",
    "\n",
    "Une classification à **1** désigne un dossier client en défaut de paiement, tandis qu'une classification à **0** désigne un dossier client sans incident.\n",
    "\n",
    "En cas de classification erronnée, deux cas de figures impliquent des pertes pour notre entreprise, les **faux positifs** et les **faux négatifs**.\n",
    "- **un faux positif**, signifie que le modèle a identifié à tort un client comme mauvais payeur. Le client aurait bien remboursé son crédit si sa demande avait été accordée. Mais comme sa demande est refusée, notre société se prive des intérêts que le prêt aurait généré.\n",
    "- **un faux négatif**, signifie que le modèle a identifié à tort un client comme bon payeur. Le client en défaut de remboursement de son prêt entraîne donc la perte de tout ou partie des sommes engagées par notre société.\n",
    "\n",
    "Les intérêts demandés par notre société en échange d'un prêt ne représentent généralement qu'une fraction du prêt. On comprend alors qu'un **faux négatif**, c-à-d. un client qui ne rembourse pas son prêt, est bien plus préjudiciable à notre société qu'un **faux positif**, c-à-d. un client qui ne rapportera pas d'intérêts à la banque en remboursant son prêt.\n",
    "\n",
    "Nous allons donc privilégier les métriques qui nous permettent de sélectionner un modèle où les individus sont bien classifiés et les faux négatifs et faux positifs minimisés, avec une priorité donnée à la minimisation des faux négatifs."
   ]
  },
  {
   "cell_type": "markdown",
   "id": "017d7d28",
   "metadata": {},
   "source": [
    "![https://transparint.com/blog/wp-content/uploads/2016/03/false-positives.png](https://transparint.com/blog/wp-content/uploads/2016/03/false-positives.png)\n",
    "\n",
    "*L'image ci-dessus est tirée de : https://transparint.com/blog/wp-content/uploads/2016/03/false-positives.png*\n",
    "\n",
    "*Les informations en anglais ci-dessous concernant les métriques et le rééquilibrage de classes sont en grande partie tirées de : https://towardsdatascience.com/how-to-effectively-predict-imbalanced-classes-in-python-e8cd3b5720c4*\n",
    "\n",
    "\n",
    "### Exactitude\n",
    "\n",
    "$Accuracy =  \\frac{TP\\,+\\,TN}{TP\\,+\\,TN\\,+\\,FP\\,+\\,FN}$ \n",
    "\n",
    "Although it is the most widely-used and interpretable metric for classification problems, please do not make the rookie mistake of using the Accuracy metric to evaluate your classification model in case of imbalanced datasets.\n",
    "\n",
    "Consider a highly skewed dataset with 1:100 class imbalance — for each instance of minority class (positive), there are 100 samples of the majority class (negative). A naive classifier (or, even a human being) can achieve a 99% prediction accuracy by predicting the majority class by default for each and every test sample, without any actual machine learning involved. However, this does not paint the true picture as may be correctly predicting the minority class is more contextually critical, e.g., in fraud detection or spam filtering algorithms."
   ]
  },
  {
   "cell_type": "markdown",
   "id": "bf63a4e5",
   "metadata": {},
   "source": [
    "### Précision\n",
    "\n",
    "$Precision =  \\frac{TP}{TP\\:+\\,FP}$\n",
    "\n",
    "Precision is the ratio of true positives to the total positives predicted by a classifier. Remember that positives, in the context of an imbalanced classification problem, refer to the minority class.\n",
    "\n",
    "Precision values range between 0 and 1. Since it does not concern itself with false negatives and aims to minimize the number of false positives, Precision is not truly representative of the entire picture where we are also concerned with minimizing false negatives (e.g., predicting a transaction as non-fraudulent when, in fact, it is fraudulent)."
   ]
  },
  {
   "cell_type": "markdown",
   "id": "4d5627db",
   "metadata": {},
   "source": [
    "### Rappel\n",
    "\n",
    "$Recall =  \\frac{TP}{TP\\:+\\:FN}$ \n",
    "\n",
    "Also known as Sensitivity and True Positive Rate (TPR), Recall is the ratio of true positives to the ground-truth positives in the sample. Unlike Precision, Recall also considers the number of positive (minority) cases that were not classified as such.\n",
    "\n",
    "Recall values range between 0 and 1. Recall is not concerned with the number of false positives and instead, aims to minimize the number of false negatives."
   ]
  },
  {
   "cell_type": "markdown",
   "id": "66729a7a",
   "metadata": {},
   "source": [
    "### F-Score\n",
    "\n",
    "$F_{Score} =  2 \\times \\frac{Precision\\:\\times\\:Recall}{Precision\\:+\\: Recall}$ \n",
    "\n",
    "Precision is appropriate when we are more concerned with minimizing false positives, while Recall is appropriate when the number of false negatives is more critical.\n",
    "\n",
    "But what if we want to maximize both Precision and Recall simultaneously to accurately predict the positive class with minimal false positives and false negatives. For example, in a fraud detection algorithm, we want to accurately predict all fraudulent cases and at the same time, not predict non-fraudulent cases as fraudulent. Maximizing both Precision and Recall together is a fine balancing act, and this is where the F-Score comes in.\n",
    "\n",
    "F-Score provides a single score to measure both Precision and Recall. Accordingly, maximizing F-Score will mean that we would have maximized both Precision and Recall. F-Score is a simple harmonic mean of Precision and Recall and is widely used for imbalanced classification problems."
   ]
  },
  {
   "cell_type": "markdown",
   "id": "75c7ec47",
   "metadata": {},
   "source": [
    "### Area Under Receiver Operating Characteristic curve (AUROC)\n",
    "\n",
    "The ROC curve plots a binary classifier’s False Positive Rate (FPR) on the x-axis and True Positive Rate (TPR, Recall) on the y-axis with for all possible probability threshold values between 0 and 1.\n",
    "\n",
    "The default probability threshold value for any classifier is usually 0.5, that is, classify a sample as belonging to the positive class if its predicted probability is greater than 0.5. However, this default assumption should not be used for imbalanced datasets, more on this later.\n",
    "\n",
    "The perfect classifier should be able to maximize the TPR to 1 and minimize FPR to 0, hence the perfect classifier will be as high and up in the top-left quadrant of the ROC curve (coordinate 0,1). ROC is not particularly biased towards either the majority or minority class and is, therefore, a popular choice for both balanced and imbalanced classification problems.\n",
    "\n",
    "A convenient way to compare two classifiers is to calculate the area under the ROC curve, AUROC, which gives a single score for a classifier across all the probability threshold values. AUROC ranges between 0 and 1, with 1 being the score of a perfectly skilled classifier."
   ]
  },
  {
   "cell_type": "markdown",
   "id": "ab78911a",
   "metadata": {},
   "source": [
    "#### Seuil de classification\n",
    "\n",
    "ROC Threshold Moving for Imbalanced Classification\n",
    "\n",
    "As alluded to above, using the default probability threshold of 0.5 to predict class labels in case of imbalanced classification problems will likely lead to poor model performance. Luckily, it is pretty straightforward to determine the optimal probability threshold in the case of ROC curves. Intuitively, this optimal threshold is closest to the top-left corner of the ROC curve and can be easily determined using the Youden’s J Statistic.\n",
    "\n",
    "The J Statistic is calculated for each threshold value returned by roc_curve with the largest J value being the optimal threshold. The formula to calculate the J Statistic in its simplest form is:\n",
    "\n",
    "$J =  \\textrm{TPR - FPR}$ "
   ]
  },
  {
   "cell_type": "markdown",
   "id": "c29a444c",
   "metadata": {},
   "source": [
    "All samples with predicted probabilities (yhat) greater than this threshold should then be assigned to the positive class."
   ]
  },
  {
   "cell_type": "markdown",
   "id": "546028a0",
   "metadata": {},
   "source": [
    "### Area Under the Precision-Recall curve (PR AUC)\n",
    "\n",
    "A PR curve plots Recall on the x-axis against Precision on the y-axis for all the possible probability thresholds. In contrast with the ROC curve, a perfectly skilled model bows towards the top right axis with coordinates (1,1). Since both Precision and Recall are concerned with true positives (the minority class), it makes it an effective tool for imbalanced classification problems.\n",
    "\n",
    "A convenient way to compare two classifiers is to calculate the area under the PR curve, PR AUC, which gives a single score for a classifier across all the probability threshold values. PR AUC ranges between 0 and 1, with 1 being the score of a perfectly skilled classifier."
   ]
  },
  {
   "cell_type": "markdown",
   "id": "840538ad",
   "metadata": {},
   "source": [
    "#### Seuil de classification\n",
    "\n",
    "Similar to the ROC curves, it is simple enough to determine the optimal probability threshold in the case of PR curves. Intuitively, this optimal threshold is closest to the top-right corner of the PR curve and can be easily determined using the F-Score."
   ]
  },
  {
   "cell_type": "markdown",
   "id": "f926376d",
   "metadata": {},
   "source": [
    "### Autres\n"
   ]
  },
  {
   "cell_type": "markdown",
   "id": "84d1fff0",
   "metadata": {},
   "source": [
    "Specificité : $ \\textrm{Specificity} =  \\frac{TN}{TN\\:+\\:FP}$"
   ]
  },
  {
   "cell_type": "markdown",
   "id": "4865ef14",
   "metadata": {},
   "source": [
    "False Negative Rate : $\\textrm{FNR} =  \\frac{FN}{FN\\:+\\:TP}$"
   ]
  },
  {
   "cell_type": "markdown",
   "id": "c91f8aea",
   "metadata": {},
   "source": [
    "False Positive Rate : $\\textrm{FPR} = 1-\\textrm{Specificity} = \\frac{FP}{FP\\:+\\:TN}$"
   ]
  },
  {
   "cell_type": "markdown",
   "id": "2a5dff2c",
   "metadata": {},
   "source": [
    "Youden Index : $\\textrm{Youden Index = Sensitivity + Specificity} -1$"
   ]
  },
  {
   "cell_type": "markdown",
   "id": "b97ff596",
   "metadata": {},
   "source": [
    "### Choix de nos métriques de comparaison"
   ]
  },
  {
   "cell_type": "code",
   "execution_count": null,
   "id": "0d7c7619",
   "metadata": {},
   "outputs": [],
   "source": [
    "# https://scikit-learn.org/stable/modules/model_evaluation.html#scoring-parameter\n",
    "# Création d'un scorer pour pouvoir passer un paramètre et éviter l'erreur suivante :\n",
    "# UndefinedMetricWarning: Precision is ill-defined and being set to 0.0 due to no predicted samples. \n",
    "#  Use `zero_division` parameter to control this behavior.\n",
    "scoring = {\n",
    "            'roc_auc'  : 'roc_auc',\n",
    "            'accuracy' : 'accuracy',\n",
    "            'precision': make_scorer(precision_score, zero_division=0),\n",
    "            'recall'   : 'recall',\n",
    "            'f1'       : 'f1'\n",
    "}"
   ]
  },
  {
   "cell_type": "markdown",
   "id": "f5871418",
   "metadata": {},
   "source": [
    "## Modèles à tester\n",
    "Nous allons tester les différents modèles suivants à l'aide des métriques retenues précédemment :\n",
    "- DummyClassifier (baseline)\n",
    "- lightGBM\n",
    "- RandomForestClassifier\n",
    "- GradientBoostingClassifier"
   ]
  },
  {
   "cell_type": "code",
   "execution_count": null,
   "id": "5a26f624",
   "metadata": {},
   "outputs": [],
   "source": [
    "modeles = {\n",
    "            \"Dummy Classifier\" : DummyClassifier(),\n",
    "            \"Random Forest\" : RandomForestClassifier(\n",
    "                                                    random_state=random_state,\n",
    "                                                    n_jobs=-1\n",
    "                                                    ),\n",
    "            \"LightGBM\" : LGBMClassifier(\n",
    "                                        random_state=random_state,\n",
    "                                        n_jobs=-1\n",
    "                                       ),\n",
    "            \"Gradient Boosting\" : GradientBoostingClassifier()\n",
    "        }"
   ]
  },
  {
   "cell_type": "markdown",
   "id": "00636bcf",
   "metadata": {},
   "source": [
    "## Équilibrage de classes\n",
    "En observant la répartition de la variable cible (0 ou 1) précédemment, nous avons pu constater que celle-ci était déséquilibrée."
   ]
  },
  {
   "cell_type": "code",
   "execution_count": null,
   "id": "110f7497",
   "metadata": {},
   "outputs": [],
   "source": [
    "# Rappel de la répartition de la variable cible dans l'échantillon de modélisation :\n",
    "graph_repartition(df_fraction['TARGET'])"
   ]
  },
  {
   "cell_type": "markdown",
   "id": "cf71ed31",
   "metadata": {},
   "source": [
    "En effet, la classe des clients en défaut de paiement représente ~8% des cas dans notre échantillon. Ce déséquilibre va nuire à l'entraînement de nos modèles.\n",
    "\n",
    "Nous avons cependant plusieurs techniques à notre disposition pour rééquilibrer le jeu de données pour l'entraînement. Pour comparer ces techniques, nous allons donc évaluer successivement nos modèles de la façon suivante :\n",
    "1. sans rééquilibrage du jeu de données(pour avoir une base de comparaison)\n",
    " 1. avec les paramètres par défaut des modèles\n",
    " 1. en utlisant les paramètres de rééquilibrage des modèles, lorsqu'ils existent\n",
    "1. évaluation avec sur-échantillonnage du jeu de données\n",
    "1. évaluation avec sous-échantillonnage du jeu de données\n",
    "\n",
    "### Définitions de fonctions"
   ]
  },
  {
   "cell_type": "code",
   "execution_count": null,
   "id": "b60138c1",
   "metadata": {},
   "outputs": [],
   "source": [
    "@contextmanager\n",
    "def timer(title):\n",
    "    t0 = time.time()\n",
    "    yield\n",
    "    print(\"{} - Fait(e) en {:.0f}s\".format(title, time.time() - t0))"
   ]
  },
  {
   "cell_type": "code",
   "execution_count": null,
   "id": "0b69c1ff",
   "metadata": {},
   "outputs": [],
   "source": [
    "def graph_matrice_confusion(y_vrai, y_pred, nom_modele):\n",
    "    \"\"\"\n",
    "    Affiche la matrice de confusion d'un modèle donné.\n",
    "    \n",
    "    Parameters\n",
    "    ----------\n",
    "    - y_vrai : vecteur des vraies valeurs cibles\n",
    "    - y_pred : vecteur des vraies valeurs prédites\n",
    "    \n",
    "    Returns\n",
    "    -------\n",
    "    - Graphique de la matrice de confusion.\n",
    "    \n",
    "    \"\"\"\n",
    "    plt.figure(figsize=(6, 4))\n",
    "    cm = confusion_matrix(y_true, y_pred)\n",
    "    labels = ['Bons payeurs', 'Mauvais payeurs']\n",
    "    sns.heatmap(cm,\n",
    "                xticklabels=labels,\n",
    "                yticklabels=labels,\n",
    "                annot=True,\n",
    "                fmt='d',\n",
    "#                 cmap=plt.cm.Blues\n",
    "               )\n",
    "    plt.title(f'Matrice de confusion du modèle {nom_modele}')\n",
    "    plt.ylabel('Classe réelle')\n",
    "    plt.xlabel('Classe prédite')\n",
    "    plt.show()    "
   ]
  },
  {
   "cell_type": "code",
   "execution_count": null,
   "id": "eb7f0f91",
   "metadata": {},
   "outputs": [],
   "source": [
    "def eval_modele(modele, nom_modele, X_train, y_train, X_test, y_test, cv, random_state, scoring, threshold='ROC'):\n",
    "    \"\"\"\n",
    "    Fonction d'évaluation d'un modèle. Prend en entrée un modèle et le jeu de données\n",
    "    sur lequel l'évaluer puis renvoi un DataFrame avec diverses métriques d'évaluation.\n",
    "    \n",
    "    Parameters:\n",
    "    ----------\n",
    "    -modele : modèle à évaluer,\n",
    "    -nom_modele : nom du modèle à afficher,\n",
    "    -X_train\n",
    "    -y_train\n",
    "    -X_test\n",
    "    -y_test\n",
    "    -cv\n",
    "    -random_state\n",
    "    -scoring\n",
    "    -threshold = 'ROC' (par défaut) ou 'PR'\n",
    "    \n",
    "    Returns:\n",
    "    -------\n",
    "    -DataFrame de métriques d'évaluation\n",
    "    \"\"\"\n",
    "    \n",
    "    print(f\"Évaluation du modèle {nom_modele}...\")\n",
    "    # Validation croisée stratifiée avec calcul de différentes métriques sur le jeu de test\n",
    "    with timer(f\"Validation croisée stratifiée du modèle {nom_modele}\"):\n",
    "        cv_results = cross_validate(\n",
    "                                    modele,\n",
    "                                    X_train, y_train,\n",
    "                                    cv=cv,\n",
    "                                    scoring=scoring)\n",
    "    \n",
    "    # Entraînement et prédictions sur le jeu d'entraînement et de test\n",
    "    with timer(f'Entraînement et prédictions du modèle {nom_modele}'):\n",
    "        modele.fit(X_train, y_train)\n",
    "        y_pred = modele.predict(X_test)\n",
    "        y_proba = modele.predict_proba(X_test)[:, 1]\n",
    "        \n",
    "    # Calcul des métriques d'évaluation :\n",
    "    accuracy = accuracy_score(y_test, y_pred)\n",
    "    recall = recall_score(y_test, y_pred)\n",
    "    precision = precision_score(y_test, y_pred, zero_division=0)\n",
    "    f1 = f1_score(y_test, y_pred)\n",
    "    roc_auc = roc_auc_score(y_test, y_proba)\n",
    "    pr_auc = average_precision_score(y_test, y_proba)\n",
    "    \n",
    "    resultats_modele = pd.DataFrame({\n",
    "        ## Renommage générale en CV_roc_auc, etc. au lieu de TEST pour bien distinguer les métriques de la CV de ce qui peut être fait par ailleurs?\n",
    "        'Modèle' : [nom_modele],\n",
    "        'roc_auc' : [roc_auc],\n",
    "        'CV roc_auc mean' : [cv_results['test_roc_auc'].mean()],\n",
    "        'CV roc_auc std' : [cv_results['test_roc_auc'].std()],\n",
    "        'accuracy' : [accuracy],\n",
    "        'CV accuracy mean' : [cv_results['test_accuracy'].mean()],\n",
    "        'CV accuracy std' : [cv_results['test_accuracy'].std()],\n",
    "        'precision' : [precision],\n",
    "        'CV precision mean' : [cv_results['test_precision'].mean()],\n",
    "        'CV precision std' : [cv_results['test_precision'].std()],\n",
    "        'recall' : [recall],\n",
    "        'CV recall mean' : [cv_results['test_recall'].mean()],\n",
    "        'CV recall std' : [cv_results['test_recall'].std()],\n",
    "        'f1' : [f1],\n",
    "        'CV f1 mean' : [cv_results['test_f1'].mean()],\n",
    "        'CV f1 std' : [cv_results['test_f1'].std()],\n",
    "        'CV fit_time mean' : [cv_results['fit_time'].mean()],\n",
    "        'CV fit_time std' : [cv_results['fit_time'].std()],\n",
    "        'CV score_time mean' : [cv_results['score_time'].mean()],\n",
    "        'CV score_time std' : [cv_results['score_time'].std()],\n",
    "    })\n",
    "    \n",
    "       \n",
    "    # Affichage des courbes ROC (TPR/FPR d'une part et PR de l'autre) :\n",
    "    best_roc_thresh, best_pr_thresh = graph_courbes_roc(nom_modele, y_test, y_proba, y_pred, roc_auc)\n",
    "    \n",
    "    # Affichage des matrices de confusion :\n",
    "    if threshold == 'ROC':\n",
    "        threshold = best_roc_thresh\n",
    "    elif threshold == 'PR':\n",
    "        threshold = best_pr_thresh\n",
    "    y_pred_threshold = calcul_seuil(y_proba, threshold)\n",
    "    graph_matrices_confusion(y_test, y_pred, y_pred_threshold, threshold)\n",
    "\n",
    "    # Renvoi de certaines données pour faciliter le développement.\n",
    "    dict_modele = {\n",
    "                    'nom_modele' : nom_modele,\n",
    "                    'modele' : modele,\n",
    "                    'y_pred' : y_pred,\n",
    "                    'y_proba': y_proba,\n",
    "                    'y_pred_threshold': y_pred_threshold,\n",
    "                    'roc_auc': roc_auc,\n",
    "                    'seuil ROC': best_roc_thresh,\n",
    "                    'seuil PR' : best_pr_thresh\n",
    "    }\n",
    "    \n",
    "    return resultats_modele, dict_modele"
   ]
  },
  {
   "cell_type": "code",
   "execution_count": null,
   "id": "f994b59f",
   "metadata": {},
   "outputs": [],
   "source": [
    "def graph_courbes_roc(nom_modele, y_test, y_proba, y_pred, roc_auc):\n",
    "    \"\"\"\n",
    "    Fonction d'affichage des courbes ROC. Prend en entrée un modèle, le jeu de données\n",
    "    sur lequel le tester, détermine les meilleurs seuils AUROC et AUPRC puis les renvoi.\n",
    "    \n",
    "    Parameters:\n",
    "    ----------\n",
    "    -nom_modele : nom du modèle à étudier,\n",
    "    -y_test : y réel\n",
    "    -y_proba : y estimé par le modèle\n",
    "    -roc_auc : roc_auc\n",
    "    \n",
    "    Returns:\n",
    "    -------\n",
    "    -les meilleurs seuils AUROC et AUPRC\n",
    "    \"\"\"\n",
    "    # Calcul et affichage courbe FPR/TPR\n",
    "    fpr, tpr, auroc_thresholds = roc_curve(y_test, y_proba)\n",
    "    roc_display = RocCurveDisplay(fpr=fpr, tpr=tpr,\n",
    "                                  roc_auc=roc_auc,\n",
    "                                  estimator_name=nom_modele)\n",
    "    # Statistique J de Youden du meilleur seuil :\n",
    "    J = tpr - fpr\n",
    "    ix = np.argmax(J)\n",
    "    best_roc_thresh = auroc_thresholds[ix]\n",
    "    print('Meilleur seuil ROC : %f' % (best_roc_thresh))\n",
    "    # Courbe FPR/TPR\n",
    "    fig, (ax1, ax2) = plt.subplots(1, 2, figsize=(12, 5))\n",
    "    roc_display.plot(ax=ax1)\n",
    "    ax1.plot([0, 1], [0, 1], linestyle='--', label='No Skill')\n",
    "    ax1.scatter(fpr[ix], tpr[ix], marker=\"o\", s=100, color=\"red\", label=f'Meilleur seuil ROC ({best_roc_thresh:.3f})')\n",
    "    ax1.legend()\n",
    "\n",
    "    # Calcul courbe Précision/Rappel\n",
    "    prec, recall, pr_thresholds = precision_recall_curve(y_test, y_proba)\n",
    "    pr_display = PrecisionRecallDisplay(\n",
    "                                        precision=prec,\n",
    "                                        recall=recall,\n",
    "                                        estimator_name=nom_modele,\n",
    "                                   )\n",
    "    f1 = f1_score(y_test, y_pred)\n",
    "    # fscore = 2 * (prec * recall) / (prec + recall)\n",
    "    # pr_ix = np.argmax(fscore)\n",
    "    pr_ix = np.argmax(f1)\n",
    "    # pr_best_thresh = pr_thresholds[pr_ix]\n",
    "    best_pr_thresh = pr_thresholds[pr_ix]\n",
    "    print('Meilleur seuil PR : %f' % (best_pr_thresh))\n",
    "    \n",
    "    # Calcul et affichage courbe Précision/Rappel\n",
    "    pr_display.plot(ax=ax2)\n",
    "    ax2.scatter(recall[pr_ix], prec[pr_ix],\n",
    "                marker=\"o\", s=100, color=\"red\",\n",
    "                label=f'Meilleur seuil PR ({best_pr_thresh:.3f})')\n",
    "    ax2.legend()\n",
    "    plt.show()\n",
    "    \n",
    "    return best_roc_thresh, best_pr_thresh"
   ]
  },
  {
   "cell_type": "code",
   "execution_count": null,
   "id": "592c5877",
   "metadata": {},
   "outputs": [],
   "source": [
    "def calcul_seuil(y_proba, threshold):\n",
    "    # threshold = 'best_pr_thresh' ou 'best_roc_thresh'\n",
    "    y_pred_threshold = (y_proba >= threshold).astype(int)\n",
    "    return y_pred_threshold"
   ]
  },
  {
   "cell_type": "code",
   "execution_count": null,
   "id": "a0f1dcf1",
   "metadata": {
    "scrolled": false
   },
   "outputs": [],
   "source": [
    "def graph_matrices_confusion(y_test, y_pred, y_pred_threshold, seuil):\n",
    "    fig, (ax1, ax2) = plt.subplots(1, 2, figsize=(15, 5))\n",
    "    disp1 = ConfusionMatrixDisplay.from_predictions(\n",
    "                                y_test, y_pred,\n",
    "                                display_labels=['Bons payeurs', 'Mauvais payeurs'],\n",
    "                                ax=ax1\n",
    "                              )# si confusion_matrix=cm, alors suffixe .plot(ax=ax1)\n",
    "    ax1.set_title('Matrice de confusion par défaut')\n",
    "    # disp.plot()\n",
    "    disp2 = ConfusionMatrixDisplay.from_predictions(\n",
    "                                y_test, y_pred_threshold,\n",
    "                                display_labels=['Bons payeurs', 'Mauvais payeurs'],\n",
    "                                ax=ax2\n",
    "                            )# .plot(ax=ax2)\n",
    "    ax2.set_title(f'Matrice de confusion avec seuil optimisé ({seuil:.4f})')\n",
    "    return plt.show()"
   ]
  },
  {
   "cell_type": "markdown",
   "id": "46575db6",
   "metadata": {},
   "source": [
    "### Tests sans rééquilibrage\n",
    "Nous commençons par tester les modèles sur le jeu de données déséquilibré pour avoir une base de comparaison.\n",
    "#### Paramètres par défaut des modèles\n",
    "Nos modèles sont utilisés avec leurs paramètres par défaut (en ce qui concerne l'équilibrage de classes du jeu de données)."
   ]
  },
  {
   "cell_type": "code",
   "execution_count": null,
   "id": "56ad7559",
   "metadata": {},
   "outputs": [],
   "source": [
    "modeles"
   ]
  },
  {
   "cell_type": "code",
   "execution_count": null,
   "id": "f837252a",
   "metadata": {},
   "outputs": [],
   "source": [
    "# Initialisation du tableau de résultats et de la liste des modèles\n",
    "resultats_evaluation = pd.DataFrame()\n",
    "liste_modeles = []"
   ]
  },
  {
   "cell_type": "code",
   "execution_count": null,
   "id": "516d6c70",
   "metadata": {
    "scrolled": false
   },
   "outputs": [],
   "source": [
    "for nom_modele, modele in modeles.items():\n",
    "    print(nom_modele)\n",
    "    resultats_modele, dict_modele = eval_modele(\n",
    "                                                modele, nom_modele,\n",
    "                                                X_train, y_train,\n",
    "                                                X_test, y_test,\n",
    "                                                skfold, random_state, scoring,\n",
    "                                                threshold='ROC'\n",
    "                                                )\n",
    "    resultats_evaluation = pd.concat([resultats_evaluation, resultats_modele], ignore_index=True)\n",
    "    liste_modeles.append(dict_modele)\n",
    "    display(resultats_modele)"
   ]
  },
  {
   "cell_type": "code",
   "execution_count": null,
   "id": "89be3a59",
   "metadata": {},
   "outputs": [],
   "source": [
    "# Observons le tableau complet obtenu :\n",
    "resultats_evaluation"
   ]
  },
  {
   "cell_type": "markdown",
   "id": "068398c0",
   "metadata": {},
   "source": [
    "On peut observer que le modèle Gradient Boosting met beaucoup plus de temps à être entraîné que les autres modèles, avec 124.67s par pli en moyenne contre 8.99s pour le modèle Random Forest qui est le second plus long."
   ]
  },
  {
   "cell_type": "code",
   "execution_count": null,
   "id": "4774fbd2",
   "metadata": {},
   "outputs": [],
   "source": [
    "resultats_globaux = resultats_evaluation.copy()"
   ]
  },
  {
   "cell_type": "markdown",
   "id": "377b1f42",
   "metadata": {},
   "source": [
    "#### Paramètres de rééquilibrage des modèles\n",
    "Nous utilisons ci-dessous les paramètres proposés par nos modèles (lorsqu'ils existent) pour tenir compte d'un éventuel déséquilibre des classes du jeu de données."
   ]
  },
  {
   "cell_type": "code",
   "execution_count": null,
   "id": "cec79bff",
   "metadata": {},
   "outputs": [],
   "source": [
    "modeles_balanced = {\n",
    "            \"Random Forest balanced\" : RandomForestClassifier(\n",
    "                                                    class_weight=\"balanced\",\n",
    "                                                    random_state=random_state,\n",
    "                                                    n_jobs=-1\n",
    "                                                    ),\n",
    "            \"LightGBM balanced\" : LGBMClassifier(\n",
    "                                        class_weight=\"balanced\",\n",
    "                                        random_state=random_state,\n",
    "                                        n_jobs=-1\n",
    "                                    ),\n",
    "        }"
   ]
  },
  {
   "cell_type": "code",
   "execution_count": null,
   "id": "6c12663e",
   "metadata": {
    "scrolled": false
   },
   "outputs": [],
   "source": [
    "for nom_modele, modele in modeles_balanced.items():\n",
    "    print(nom_modele)\n",
    "    resultats_modele, dict_modele = eval_modele(\n",
    "                                                modele, nom_modele,\n",
    "                                                X_train, y_train,\n",
    "                                                X_test, y_test,\n",
    "                                                skfold, random_state, scoring\n",
    "                                                )\n",
    "    resultats_evaluation = pd.concat([resultats_evaluation, resultats_modele], ignore_index=True)\n",
    "    liste_modeles.append(dict_modele)\n",
    "    display(resultats_modele)"
   ]
  },
  {
   "cell_type": "code",
   "execution_count": null,
   "id": "0408284a",
   "metadata": {},
   "outputs": [],
   "source": [
    "# Affichons les résultats classés par roc_auc croissant :\n",
    "resultats_evaluation.sort_values(by=\"roc_auc\")"
   ]
  },
  {
   "cell_type": "code",
   "execution_count": 59,
   "id": "850491cf",
   "metadata": {},
   "outputs": [
    {
     "data": {
      "text/html": [
       "<div>\n",
       "<style scoped>\n",
       "    .dataframe tbody tr th:only-of-type {\n",
       "        vertical-align: middle;\n",
       "    }\n",
       "\n",
       "    .dataframe tbody tr th {\n",
       "        vertical-align: top;\n",
       "    }\n",
       "\n",
       "    .dataframe thead th {\n",
       "        text-align: right;\n",
       "    }\n",
       "</style>\n",
       "<table border=\"1\" class=\"dataframe\">\n",
       "  <thead>\n",
       "    <tr style=\"text-align: right;\">\n",
       "      <th></th>\n",
       "      <th>Modèle</th>\n",
       "      <th>roc_auc</th>\n",
       "      <th>CV roc_auc mean</th>\n",
       "      <th>CV roc_auc std</th>\n",
       "      <th>accuracy</th>\n",
       "      <th>CV accuracy mean</th>\n",
       "      <th>CV accuracy std</th>\n",
       "      <th>precision</th>\n",
       "      <th>CV precision mean</th>\n",
       "      <th>CV precision std</th>\n",
       "      <th>recall</th>\n",
       "      <th>CV recall mean</th>\n",
       "      <th>CV recall std</th>\n",
       "      <th>f1</th>\n",
       "      <th>CV f1 mean</th>\n",
       "      <th>CV f1 std</th>\n",
       "      <th>CV fit_time mean</th>\n",
       "      <th>CV fit_time std</th>\n",
       "      <th>CV score_time mean</th>\n",
       "      <th>CV score_time std</th>\n",
       "    </tr>\n",
       "  </thead>\n",
       "  <tbody>\n",
       "    <tr>\n",
       "      <th>0</th>\n",
       "      <td>Dummy Classifier</td>\n",
       "      <td>0.50</td>\n",
       "      <td>0.50</td>\n",
       "      <td>0.00</td>\n",
       "      <td>0.92</td>\n",
       "      <td>0.92</td>\n",
       "      <td>0.00</td>\n",
       "      <td>0.00</td>\n",
       "      <td>0.00</td>\n",
       "      <td>0.00</td>\n",
       "      <td>0.00</td>\n",
       "      <td>0.00</td>\n",
       "      <td>0.00</td>\n",
       "      <td>0.00</td>\n",
       "      <td>0.00</td>\n",
       "      <td>0.00</td>\n",
       "      <td>0.06</td>\n",
       "      <td>0.00</td>\n",
       "      <td>0.02</td>\n",
       "      <td>0.01</td>\n",
       "    </tr>\n",
       "    <tr>\n",
       "      <th>3</th>\n",
       "      <td>Gradient Boosting</td>\n",
       "      <td>0.76</td>\n",
       "      <td>0.76</td>\n",
       "      <td>0.01</td>\n",
       "      <td>0.92</td>\n",
       "      <td>0.92</td>\n",
       "      <td>0.00</td>\n",
       "      <td>0.61</td>\n",
       "      <td>0.42</td>\n",
       "      <td>0.04</td>\n",
       "      <td>0.02</td>\n",
       "      <td>0.02</td>\n",
       "      <td>0.00</td>\n",
       "      <td>0.04</td>\n",
       "      <td>0.03</td>\n",
       "      <td>0.01</td>\n",
       "      <td>124.67</td>\n",
       "      <td>0.39</td>\n",
       "      <td>0.19</td>\n",
       "      <td>0.00</td>\n",
       "    </tr>\n",
       "    <tr>\n",
       "      <th>2</th>\n",
       "      <td>LightGBM</td>\n",
       "      <td>0.77</td>\n",
       "      <td>0.76</td>\n",
       "      <td>0.01</td>\n",
       "      <td>0.92</td>\n",
       "      <td>0.92</td>\n",
       "      <td>0.00</td>\n",
       "      <td>0.45</td>\n",
       "      <td>0.41</td>\n",
       "      <td>0.05</td>\n",
       "      <td>0.02</td>\n",
       "      <td>0.03</td>\n",
       "      <td>0.00</td>\n",
       "      <td>0.05</td>\n",
       "      <td>0.05</td>\n",
       "      <td>0.00</td>\n",
       "      <td>4.62</td>\n",
       "      <td>0.53</td>\n",
       "      <td>0.16</td>\n",
       "      <td>0.04</td>\n",
       "    </tr>\n",
       "    <tr>\n",
       "      <th>5</th>\n",
       "      <td>LightGBM balanced</td>\n",
       "      <td>0.76</td>\n",
       "      <td>0.76</td>\n",
       "      <td>0.01</td>\n",
       "      <td>0.78</td>\n",
       "      <td>0.79</td>\n",
       "      <td>0.01</td>\n",
       "      <td>0.20</td>\n",
       "      <td>0.20</td>\n",
       "      <td>0.01</td>\n",
       "      <td>0.57</td>\n",
       "      <td>0.55</td>\n",
       "      <td>0.02</td>\n",
       "      <td>0.29</td>\n",
       "      <td>0.29</td>\n",
       "      <td>0.01</td>\n",
       "      <td>5.48</td>\n",
       "      <td>0.36</td>\n",
       "      <td>0.23</td>\n",
       "      <td>0.01</td>\n",
       "    </tr>\n",
       "    <tr>\n",
       "      <th>1</th>\n",
       "      <td>Random Forest</td>\n",
       "      <td>0.71</td>\n",
       "      <td>0.69</td>\n",
       "      <td>0.01</td>\n",
       "      <td>0.92</td>\n",
       "      <td>0.92</td>\n",
       "      <td>0.00</td>\n",
       "      <td>0.00</td>\n",
       "      <td>0.10</td>\n",
       "      <td>0.20</td>\n",
       "      <td>0.00</td>\n",
       "      <td>0.00</td>\n",
       "      <td>0.00</td>\n",
       "      <td>0.00</td>\n",
       "      <td>0.00</td>\n",
       "      <td>0.00</td>\n",
       "      <td>8.99</td>\n",
       "      <td>1.00</td>\n",
       "      <td>0.23</td>\n",
       "      <td>0.01</td>\n",
       "    </tr>\n",
       "    <tr>\n",
       "      <th>4</th>\n",
       "      <td>Random Forest balanced</td>\n",
       "      <td>0.73</td>\n",
       "      <td>0.71</td>\n",
       "      <td>0.01</td>\n",
       "      <td>0.92</td>\n",
       "      <td>0.92</td>\n",
       "      <td>0.00</td>\n",
       "      <td>0.00</td>\n",
       "      <td>0.20</td>\n",
       "      <td>0.40</td>\n",
       "      <td>0.00</td>\n",
       "      <td>0.00</td>\n",
       "      <td>0.00</td>\n",
       "      <td>0.00</td>\n",
       "      <td>0.00</td>\n",
       "      <td>0.00</td>\n",
       "      <td>6.49</td>\n",
       "      <td>0.68</td>\n",
       "      <td>0.21</td>\n",
       "      <td>0.01</td>\n",
       "    </tr>\n",
       "  </tbody>\n",
       "</table>\n",
       "</div>"
      ],
      "text/plain": [
       "                   Modèle  roc_auc  CV roc_auc mean  CV roc_auc std  accuracy  CV accuracy mean  \\\n",
       "0        Dummy Classifier     0.50             0.50            0.00      0.92              0.92   \n",
       "3       Gradient Boosting     0.76             0.76            0.01      0.92              0.92   \n",
       "2                LightGBM     0.77             0.76            0.01      0.92              0.92   \n",
       "5       LightGBM balanced     0.76             0.76            0.01      0.78              0.79   \n",
       "1           Random Forest     0.71             0.69            0.01      0.92              0.92   \n",
       "4  Random Forest balanced     0.73             0.71            0.01      0.92              0.92   \n",
       "\n",
       "   CV accuracy std  precision  CV precision mean  CV precision std  recall  CV recall mean  \\\n",
       "0             0.00       0.00               0.00              0.00    0.00            0.00   \n",
       "3             0.00       0.61               0.42              0.04    0.02            0.02   \n",
       "2             0.00       0.45               0.41              0.05    0.02            0.03   \n",
       "5             0.01       0.20               0.20              0.01    0.57            0.55   \n",
       "1             0.00       0.00               0.10              0.20    0.00            0.00   \n",
       "4             0.00       0.00               0.20              0.40    0.00            0.00   \n",
       "\n",
       "   CV recall std   f1  CV f1 mean  CV f1 std  CV fit_time mean  CV fit_time std  \\\n",
       "0           0.00 0.00        0.00       0.00              0.06             0.00   \n",
       "3           0.00 0.04        0.03       0.01            124.67             0.39   \n",
       "2           0.00 0.05        0.05       0.00              4.62             0.53   \n",
       "5           0.02 0.29        0.29       0.01              5.48             0.36   \n",
       "1           0.00 0.00        0.00       0.00              8.99             1.00   \n",
       "4           0.00 0.00        0.00       0.00              6.49             0.68   \n",
       "\n",
       "   CV score_time mean  CV score_time std  \n",
       "0                0.02               0.01  \n",
       "3                0.19               0.00  \n",
       "2                0.16               0.04  \n",
       "5                0.23               0.01  \n",
       "1                0.23               0.01  \n",
       "4                0.21               0.01  "
      ]
     },
     "execution_count": 59,
     "metadata": {},
     "output_type": "execute_result"
    }
   ],
   "source": [
    "# Affichons les résultats classés par nom de modèle pour voir plus clairement les changements pour chaque modèle :\n",
    "resultats_evaluation.sort_values(by='Modèle')"
   ]
  },
  {
   "cell_type": "markdown",
   "id": "9690cd9b",
   "metadata": {},
   "source": [
    "### Sur-échantillonnage\n",
    "\n",
    "Nous allons suréchantillonner le jeu d'entraînement par la méthode SMOTE.\n",
    "\n",
    "Comparons la variable cible du jeu de données à l'heure actuelle avec la variable cible du jeu de données sur-échantillonné pour avoir une réprésentation graphique de cette méthode."
   ]
  },
  {
   "cell_type": "code",
   "execution_count": 60,
   "id": "683a5816",
   "metadata": {},
   "outputs": [
    {
     "name": "stdout",
     "output_type": "stream",
     "text": [
      "Dimensions du jeu de données actuel : Counter({0.0: 45230, 1.0: 3970})\n"
     ]
    }
   ],
   "source": [
    "print('Dimensions du jeu de données actuel : %s' % Counter(y_train))"
   ]
  },
  {
   "cell_type": "code",
   "execution_count": 215,
   "id": "df465709",
   "metadata": {},
   "outputs": [
    {
     "data": {
      "text/html": [
       "<div>\n",
       "<style scoped>\n",
       "    .dataframe tbody tr th:only-of-type {\n",
       "        vertical-align: middle;\n",
       "    }\n",
       "\n",
       "    .dataframe tbody tr th {\n",
       "        vertical-align: top;\n",
       "    }\n",
       "\n",
       "    .dataframe thead th {\n",
       "        text-align: right;\n",
       "    }\n",
       "</style>\n",
       "<table border=\"1\" class=\"dataframe\">\n",
       "  <thead>\n",
       "    <tr style=\"text-align: right;\">\n",
       "      <th></th>\n",
       "      <th>Individus</th>\n",
       "      <th>% du total</th>\n",
       "    </tr>\n",
       "  </thead>\n",
       "  <tbody>\n",
       "    <tr>\n",
       "      <th>0.00</th>\n",
       "      <td>45230</td>\n",
       "      <td>91.93</td>\n",
       "    </tr>\n",
       "    <tr>\n",
       "      <th>1.00</th>\n",
       "      <td>3970</td>\n",
       "      <td>8.07</td>\n",
       "    </tr>\n",
       "  </tbody>\n",
       "</table>\n",
       "</div>"
      ],
      "text/plain": [
       "      Individus  % du total\n",
       "0.00      45230       91.93\n",
       "1.00       3970        8.07"
      ]
     },
     "metadata": {},
     "output_type": "display_data"
    },
    {
     "data": {
      "image/png": "[encoded data removed]",
      "text/plain": [
       "<Figure size 432x288 with 1 Axes>"
      ]
     },
     "metadata": {
      "needs_background": "light"
     },
     "output_type": "display_data"
    }
   ],
   "source": [
    "# Vérifions la répartition de la variable cible dans l'échantillon de modélisation avant suréchantillonnage :\n",
    "graph_repartition(y_train)"
   ]
  },
  {
   "cell_type": "code",
   "execution_count": 61,
   "id": "b48f55a4",
   "metadata": {},
   "outputs": [],
   "source": [
    "# Paramétrage SMOTE\n",
    "sm = SMOTE(sampling_strategy='auto', k_neighbors=5, random_state=random_state, n_jobs=-1)"
   ]
  },
  {
   "cell_type": "code",
   "execution_count": 62,
   "id": "18d8dbbc",
   "metadata": {},
   "outputs": [
    {
     "name": "stdout",
     "output_type": "stream",
     "text": [
      "Dimensions du jeu de données d'entraînement suréchantillonné : Counter({0.0: 45230, 1.0: 45230})\n"
     ]
    }
   ],
   "source": [
    "X_os, y_os = sm.fit_resample(X_train, y_train)\n",
    "print(\"Dimensions du jeu de données d'entraînement suréchantillonné : %s\" % Counter(y_os))"
   ]
  },
  {
   "cell_type": "code",
   "execution_count": 65,
   "id": "cae74820",
   "metadata": {},
   "outputs": [
    {
     "data": {
      "text/html": [
       "<div>\n",
       "<style scoped>\n",
       "    .dataframe tbody tr th:only-of-type {\n",
       "        vertical-align: middle;\n",
       "    }\n",
       "\n",
       "    .dataframe tbody tr th {\n",
       "        vertical-align: top;\n",
       "    }\n",
       "\n",
       "    .dataframe thead th {\n",
       "        text-align: right;\n",
       "    }\n",
       "</style>\n",
       "<table border=\"1\" class=\"dataframe\">\n",
       "  <thead>\n",
       "    <tr style=\"text-align: right;\">\n",
       "      <th></th>\n",
       "      <th>Individus</th>\n",
       "      <th>% du total</th>\n",
       "    </tr>\n",
       "  </thead>\n",
       "  <tbody>\n",
       "    <tr>\n",
       "      <th>0.00</th>\n",
       "      <td>45230</td>\n",
       "      <td>50.00</td>\n",
       "    </tr>\n",
       "    <tr>\n",
       "      <th>1.00</th>\n",
       "      <td>45230</td>\n",
       "      <td>50.00</td>\n",
       "    </tr>\n",
       "  </tbody>\n",
       "</table>\n",
       "</div>"
      ],
      "text/plain": [
       "      Individus  % du total\n",
       "0.00      45230       50.00\n",
       "1.00      45230       50.00"
      ]
     },
     "metadata": {},
     "output_type": "display_data"
    },
    {
     "data": {
      "image/png": "[encoded data removed]",
      "text/plain": [
       "<Figure size 432x288 with 1 Axes>"
      ]
     },
     "metadata": {
      "needs_background": "light"
     },
     "output_type": "display_data"
    }
   ],
   "source": [
    "# Vérifions la répartition de la variable cible dans l'échantillon de modélisation après suréchantillonnage :\n",
    "graph_repartition(y_os)"
   ]
  },
  {
   "cell_type": "markdown",
   "id": "4ed04202",
   "metadata": {},
   "source": [
    "Les classes sont à présent bien équilibrées.\n",
    "\n",
    "\n",
    "ICI EXPLICATIONS\n"
   ]
  },
  {
   "cell_type": "code",
   "execution_count": 66,
   "id": "932bca70",
   "metadata": {},
   "outputs": [],
   "source": [
    "# Définissons les modèles sur lesquels tester le suréchantillonnage.\n",
    "modeles_os = {\n",
    "            \"Dummy Classifier OS\" : DummyClassifier(),\n",
    "            \"Random Forest OS\" : RandomForestClassifier(\n",
    "                                                    random_state=random_state,\n",
    "                                                    n_jobs=-1\n",
    "                                                    ),\n",
    "            \"LightGBM OS\" : LGBMClassifier(\n",
    "                                        random_state=random_state,\n",
    "                                        n_jobs=-1\n",
    "                                       ),\n",
    "#             \"Gradient Boosting OS\" : GradientBoostingClassifier()\n",
    "        }"
   ]
  },
  {
   "cell_type": "code",
   "execution_count": 67,
   "id": "7437e08b",
   "metadata": {
    "scrolled": false
   },
   "outputs": [
    {
     "name": "stdout",
     "output_type": "stream",
     "text": [
      "Dummy Classifier OS\n",
      "Évaluation du modèle Dummy Classifier OS...\n",
      "Validation croisée stratifiée du modèle Dummy Classifier OS - Fait(e) en 2s\n",
      "Entraînement et prédictions du modèle Dummy Classifier OS - Fait(e) en 0s\n",
      "Meilleur seuil ROC : 1.500000\n",
      "Meilleur seuil PR : 0.500000\n"
     ]
    },
    {
     "data": {
      "image/png": "[encoded data removed]",
      "text/plain": [
       "<Figure size 864x360 with 2 Axes>"
      ]
     },
     "metadata": {
      "needs_background": "light"
     },
     "output_type": "display_data"
    },
    {
     "data": {
      "image/png": "[encoded data removed]",
      "text/plain": [
       "<Figure size 1080x360 with 4 Axes>"
      ]
     },
     "metadata": {
      "needs_background": "light"
     },
     "output_type": "display_data"
    },
    {
     "data": {
      "text/html": [
       "<div>\n",
       "<style scoped>\n",
       "    .dataframe tbody tr th:only-of-type {\n",
       "        vertical-align: middle;\n",
       "    }\n",
       "\n",
       "    .dataframe tbody tr th {\n",
       "        vertical-align: top;\n",
       "    }\n",
       "\n",
       "    .dataframe thead th {\n",
       "        text-align: right;\n",
       "    }\n",
       "</style>\n",
       "<table border=\"1\" class=\"dataframe\">\n",
       "  <thead>\n",
       "    <tr style=\"text-align: right;\">\n",
       "      <th></th>\n",
       "      <th>Modèle</th>\n",
       "      <th>roc_auc</th>\n",
       "      <th>CV roc_auc mean</th>\n",
       "      <th>CV roc_auc std</th>\n",
       "      <th>accuracy</th>\n",
       "      <th>CV accuracy mean</th>\n",
       "      <th>CV accuracy std</th>\n",
       "      <th>precision</th>\n",
       "      <th>CV precision mean</th>\n",
       "      <th>CV precision std</th>\n",
       "      <th>recall</th>\n",
       "      <th>CV recall mean</th>\n",
       "      <th>CV recall std</th>\n",
       "      <th>f1</th>\n",
       "      <th>CV f1 mean</th>\n",
       "      <th>CV f1 std</th>\n",
       "      <th>CV fit_time mean</th>\n",
       "      <th>CV fit_time std</th>\n",
       "      <th>CV score_time mean</th>\n",
       "      <th>CV score_time std</th>\n",
       "    </tr>\n",
       "  </thead>\n",
       "  <tbody>\n",
       "    <tr>\n",
       "      <th>0</th>\n",
       "      <td>Dummy Classifier OS</td>\n",
       "      <td>0.50</td>\n",
       "      <td>0.50</td>\n",
       "      <td>0.00</td>\n",
       "      <td>0.92</td>\n",
       "      <td>0.50</td>\n",
       "      <td>0.00</td>\n",
       "      <td>0.00</td>\n",
       "      <td>0.00</td>\n",
       "      <td>0.00</td>\n",
       "      <td>0.00</td>\n",
       "      <td>0.00</td>\n",
       "      <td>0.00</td>\n",
       "      <td>0.00</td>\n",
       "      <td>0.00</td>\n",
       "      <td>0.00</td>\n",
       "      <td>0.37</td>\n",
       "      <td>0.26</td>\n",
       "      <td>0.03</td>\n",
       "      <td>0.00</td>\n",
       "    </tr>\n",
       "  </tbody>\n",
       "</table>\n",
       "</div>"
      ],
      "text/plain": [
       "                Modèle  roc_auc  CV roc_auc mean  CV roc_auc std  accuracy  CV accuracy mean  \\\n",
       "0  Dummy Classifier OS     0.50             0.50            0.00      0.92              0.50   \n",
       "\n",
       "   CV accuracy std  precision  CV precision mean  CV precision std  recall  CV recall mean  \\\n",
       "0             0.00       0.00               0.00              0.00    0.00            0.00   \n",
       "\n",
       "   CV recall std   f1  CV f1 mean  CV f1 std  CV fit_time mean  CV fit_time std  \\\n",
       "0           0.00 0.00        0.00       0.00              0.37             0.26   \n",
       "\n",
       "   CV score_time mean  CV score_time std  \n",
       "0                0.03               0.00  "
      ]
     },
     "metadata": {},
     "output_type": "display_data"
    },
    {
     "name": "stdout",
     "output_type": "stream",
     "text": [
      "Random Forest OS\n",
      "Évaluation du modèle Random Forest OS...\n",
      "Validation croisée stratifiée du modèle Random Forest OS - Fait(e) en 91s\n",
      "Entraînement et prédictions du modèle Random Forest OS - Fait(e) en 24s\n",
      "Meilleur seuil ROC : 0.200000\n",
      "Meilleur seuil PR : 0.020000\n"
     ]
    },
    {
     "data": {
      "image/png": "[encoded data removed]",
      "text/plain": [
       "<Figure size 864x360 with 2 Axes>"
      ]
     },
     "metadata": {
      "needs_background": "light"
     },
     "output_type": "display_data"
    },
    {
     "data": {
      "image/png": "[encoded data removed]",
      "text/plain": [
       "<Figure size 1080x360 with 4 Axes>"
      ]
     },
     "metadata": {
      "needs_background": "light"
     },
     "output_type": "display_data"
    },
    {
     "data": {
      "text/html": [
       "<div>\n",
       "<style scoped>\n",
       "    .dataframe tbody tr th:only-of-type {\n",
       "        vertical-align: middle;\n",
       "    }\n",
       "\n",
       "    .dataframe tbody tr th {\n",
       "        vertical-align: top;\n",
       "    }\n",
       "\n",
       "    .dataframe thead th {\n",
       "        text-align: right;\n",
       "    }\n",
       "</style>\n",
       "<table border=\"1\" class=\"dataframe\">\n",
       "  <thead>\n",
       "    <tr style=\"text-align: right;\">\n",
       "      <th></th>\n",
       "      <th>Modèle</th>\n",
       "      <th>roc_auc</th>\n",
       "      <th>CV roc_auc mean</th>\n",
       "      <th>CV roc_auc std</th>\n",
       "      <th>accuracy</th>\n",
       "      <th>CV accuracy mean</th>\n",
       "      <th>CV accuracy std</th>\n",
       "      <th>precision</th>\n",
       "      <th>CV precision mean</th>\n",
       "      <th>CV precision std</th>\n",
       "      <th>recall</th>\n",
       "      <th>CV recall mean</th>\n",
       "      <th>CV recall std</th>\n",
       "      <th>f1</th>\n",
       "      <th>CV f1 mean</th>\n",
       "      <th>CV f1 std</th>\n",
       "      <th>CV fit_time mean</th>\n",
       "      <th>CV fit_time std</th>\n",
       "      <th>CV score_time mean</th>\n",
       "      <th>CV score_time std</th>\n",
       "    </tr>\n",
       "  </thead>\n",
       "  <tbody>\n",
       "    <tr>\n",
       "      <th>0</th>\n",
       "      <td>Random Forest OS</td>\n",
       "      <td>0.69</td>\n",
       "      <td>0.99</td>\n",
       "      <td>0.00</td>\n",
       "      <td>0.92</td>\n",
       "      <td>0.96</td>\n",
       "      <td>0.00</td>\n",
       "      <td>0.30</td>\n",
       "      <td>1.00</td>\n",
       "      <td>0.00</td>\n",
       "      <td>0.01</td>\n",
       "      <td>0.92</td>\n",
       "      <td>0.00</td>\n",
       "      <td>0.02</td>\n",
       "      <td>0.96</td>\n",
       "      <td>0.00</td>\n",
       "      <td>17.70</td>\n",
       "      <td>0.73</td>\n",
       "      <td>0.41</td>\n",
       "      <td>0.01</td>\n",
       "    </tr>\n",
       "  </tbody>\n",
       "</table>\n",
       "</div>"
      ],
      "text/plain": [
       "             Modèle  roc_auc  CV roc_auc mean  CV roc_auc std  accuracy  CV accuracy mean  \\\n",
       "0  Random Forest OS     0.69             0.99            0.00      0.92              0.96   \n",
       "\n",
       "   CV accuracy std  precision  CV precision mean  CV precision std  recall  CV recall mean  \\\n",
       "0             0.00       0.30               1.00              0.00    0.01            0.92   \n",
       "\n",
       "   CV recall std   f1  CV f1 mean  CV f1 std  CV fit_time mean  CV fit_time std  \\\n",
       "0           0.00 0.02        0.96       0.00             17.70             0.73   \n",
       "\n",
       "   CV score_time mean  CV score_time std  \n",
       "0                0.41               0.01  "
      ]
     },
     "metadata": {},
     "output_type": "display_data"
    },
    {
     "name": "stdout",
     "output_type": "stream",
     "text": [
      "LightGBM OS\n",
      "Évaluation du modèle LightGBM OS...\n",
      "Validation croisée stratifiée du modèle LightGBM OS - Fait(e) en 59s\n",
      "Entraînement et prédictions du modèle LightGBM OS - Fait(e) en 11s\n",
      "Meilleur seuil ROC : 0.083670\n",
      "Meilleur seuil PR : 0.010880\n"
     ]
    },
    {
     "data": {
      "image/png": "[encoded data removed]",
      "text/plain": [
       "<Figure size 864x360 with 2 Axes>"
      ]
     },
     "metadata": {
      "needs_background": "light"
     },
     "output_type": "display_data"
    },
    {
     "data": {
      "image/png": "[encoded data removed]",
      "text/plain": [
       "<Figure size 1080x360 with 4 Axes>"
      ]
     },
     "metadata": {
      "needs_background": "light"
     },
     "output_type": "display_data"
    },
    {
     "data": {
      "text/html": [
       "<div>\n",
       "<style scoped>\n",
       "    .dataframe tbody tr th:only-of-type {\n",
       "        vertical-align: middle;\n",
       "    }\n",
       "\n",
       "    .dataframe tbody tr th {\n",
       "        vertical-align: top;\n",
       "    }\n",
       "\n",
       "    .dataframe thead th {\n",
       "        text-align: right;\n",
       "    }\n",
       "</style>\n",
       "<table border=\"1\" class=\"dataframe\">\n",
       "  <thead>\n",
       "    <tr style=\"text-align: right;\">\n",
       "      <th></th>\n",
       "      <th>Modèle</th>\n",
       "      <th>roc_auc</th>\n",
       "      <th>CV roc_auc mean</th>\n",
       "      <th>CV roc_auc std</th>\n",
       "      <th>accuracy</th>\n",
       "      <th>CV accuracy mean</th>\n",
       "      <th>CV accuracy std</th>\n",
       "      <th>precision</th>\n",
       "      <th>CV precision mean</th>\n",
       "      <th>CV precision std</th>\n",
       "      <th>recall</th>\n",
       "      <th>CV recall mean</th>\n",
       "      <th>CV recall std</th>\n",
       "      <th>f1</th>\n",
       "      <th>CV f1 mean</th>\n",
       "      <th>CV f1 std</th>\n",
       "      <th>CV fit_time mean</th>\n",
       "      <th>CV fit_time std</th>\n",
       "      <th>CV score_time mean</th>\n",
       "      <th>CV score_time std</th>\n",
       "    </tr>\n",
       "  </thead>\n",
       "  <tbody>\n",
       "    <tr>\n",
       "      <th>0</th>\n",
       "      <td>LightGBM OS</td>\n",
       "      <td>0.74</td>\n",
       "      <td>0.98</td>\n",
       "      <td>0.00</td>\n",
       "      <td>0.92</td>\n",
       "      <td>0.96</td>\n",
       "      <td>0.00</td>\n",
       "      <td>0.45</td>\n",
       "      <td>1.00</td>\n",
       "      <td>0.00</td>\n",
       "      <td>0.03</td>\n",
       "      <td>0.91</td>\n",
       "      <td>0.00</td>\n",
       "      <td>0.05</td>\n",
       "      <td>0.95</td>\n",
       "      <td>0.00</td>\n",
       "      <td>11.38</td>\n",
       "      <td>1.58</td>\n",
       "      <td>0.35</td>\n",
       "      <td>0.03</td>\n",
       "    </tr>\n",
       "  </tbody>\n",
       "</table>\n",
       "</div>"
      ],
      "text/plain": [
       "        Modèle  roc_auc  CV roc_auc mean  CV roc_auc std  accuracy  CV accuracy mean  \\\n",
       "0  LightGBM OS     0.74             0.98            0.00      0.92              0.96   \n",
       "\n",
       "   CV accuracy std  precision  CV precision mean  CV precision std  recall  CV recall mean  \\\n",
       "0             0.00       0.45               1.00              0.00    0.03            0.91   \n",
       "\n",
       "   CV recall std   f1  CV f1 mean  CV f1 std  CV fit_time mean  CV fit_time std  \\\n",
       "0           0.00 0.05        0.95       0.00             11.38             1.58   \n",
       "\n",
       "   CV score_time mean  CV score_time std  \n",
       "0                0.35               0.03  "
      ]
     },
     "metadata": {},
     "output_type": "display_data"
    }
   ],
   "source": [
    "for nom_modele, modele in modeles_os.items():\n",
    "    print(nom_modele)\n",
    "    pipeline = imbpipeline(steps = [['SMOTE', sm],\n",
    "                                    ['Classifieur', modele]\n",
    "                                   ])\n",
    "    resultats_modele, dict_modele = eval_modele(\n",
    "                                                pipeline, nom_modele,\n",
    "                                                X_train, y_train,\n",
    "                                                X_test, y_test,\n",
    "                                                skfold, random_state, scoring,\n",
    "                                                threshold='ROC'\n",
    "                                                )\n",
    "    resultats_evaluation = pd.concat([resultats_evaluation, resultats_modele], ignore_index=True)\n",
    "    liste_modeles.append(dict_modele)\n",
    "\n",
    "    display(resultats_modele)"
   ]
  },
  {
   "cell_type": "code",
   "execution_count": 67,
   "id": "a73e434b",
   "metadata": {
    "scrolled": false
   },
   "outputs": [
    {
     "name": "stdout",
     "output_type": "stream",
     "text": [
      "Dummy Classifier OS\n",
      "Évaluation du modèle Dummy Classifier OS...\n",
      "Validation croisée stratifiée du modèle Dummy Classifier OS - Fait(e) en 2s\n",
      "Entraînement et prédictions du modèle Dummy Classifier OS - Fait(e) en 0s\n",
      "Meilleur seuil ROC : 1.500000\n",
      "Meilleur seuil PR : 0.500000\n"
     ]
    },
    {
     "data": {
      "image/png": "[encoded data removed]",
      "text/plain": [
       "<Figure size 864x360 with 2 Axes>"
      ]
     },
     "metadata": {
      "needs_background": "light"
     },
     "output_type": "display_data"
    },
    {
     "data": {
      "image/png": "[encoded data removed]",
      "text/plain": [
       "<Figure size 1080x360 with 4 Axes>"
      ]
     },
     "metadata": {
      "needs_background": "light"
     },
     "output_type": "display_data"
    },
    {
     "data": {
      "text/html": [
       "<div>\n",
       "<style scoped>\n",
       "    .dataframe tbody tr th:only-of-type {\n",
       "        vertical-align: middle;\n",
       "    }\n",
       "\n",
       "    .dataframe tbody tr th {\n",
       "        vertical-align: top;\n",
       "    }\n",
       "\n",
       "    .dataframe thead th {\n",
       "        text-align: right;\n",
       "    }\n",
       "</style>\n",
       "<table border=\"1\" class=\"dataframe\">\n",
       "  <thead>\n",
       "    <tr style=\"text-align: right;\">\n",
       "      <th></th>\n",
       "      <th>Modèle</th>\n",
       "      <th>roc_auc</th>\n",
       "      <th>CV roc_auc mean</th>\n",
       "      <th>CV roc_auc std</th>\n",
       "      <th>accuracy</th>\n",
       "      <th>CV accuracy mean</th>\n",
       "      <th>CV accuracy std</th>\n",
       "      <th>precision</th>\n",
       "      <th>CV precision mean</th>\n",
       "      <th>CV precision std</th>\n",
       "      <th>recall</th>\n",
       "      <th>CV recall mean</th>\n",
       "      <th>CV recall std</th>\n",
       "      <th>f1</th>\n",
       "      <th>CV f1 mean</th>\n",
       "      <th>CV f1 std</th>\n",
       "      <th>CV fit_time mean</th>\n",
       "      <th>CV fit_time std</th>\n",
       "      <th>CV score_time mean</th>\n",
       "      <th>CV score_time std</th>\n",
       "    </tr>\n",
       "  </thead>\n",
       "  <tbody>\n",
       "    <tr>\n",
       "      <th>0</th>\n",
       "      <td>Dummy Classifier OS</td>\n",
       "      <td>0.50</td>\n",
       "      <td>0.50</td>\n",
       "      <td>0.00</td>\n",
       "      <td>0.92</td>\n",
       "      <td>0.50</td>\n",
       "      <td>0.00</td>\n",
       "      <td>0.00</td>\n",
       "      <td>0.00</td>\n",
       "      <td>0.00</td>\n",
       "      <td>0.00</td>\n",
       "      <td>0.00</td>\n",
       "      <td>0.00</td>\n",
       "      <td>0.00</td>\n",
       "      <td>0.00</td>\n",
       "      <td>0.00</td>\n",
       "      <td>0.37</td>\n",
       "      <td>0.26</td>\n",
       "      <td>0.03</td>\n",
       "      <td>0.00</td>\n",
       "    </tr>\n",
       "  </tbody>\n",
       "</table>\n",
       "</div>"
      ],
      "text/plain": [
       "                Modèle  roc_auc  CV roc_auc mean  CV roc_auc std  accuracy  CV accuracy mean  \\\n",
       "0  Dummy Classifier OS     0.50             0.50            0.00      0.92              0.50   \n",
       "\n",
       "   CV accuracy std  precision  CV precision mean  CV precision std  recall  CV recall mean  \\\n",
       "0             0.00       0.00               0.00              0.00    0.00            0.00   \n",
       "\n",
       "   CV recall std   f1  CV f1 mean  CV f1 std  CV fit_time mean  CV fit_time std  \\\n",
       "0           0.00 0.00        0.00       0.00              0.37             0.26   \n",
       "\n",
       "   CV score_time mean  CV score_time std  \n",
       "0                0.03               0.00  "
      ]
     },
     "metadata": {},
     "output_type": "display_data"
    },
    {
     "name": "stdout",
     "output_type": "stream",
     "text": [
      "Random Forest OS\n",
      "Évaluation du modèle Random Forest OS...\n",
      "Validation croisée stratifiée du modèle Random Forest OS - Fait(e) en 91s\n",
      "Entraînement et prédictions du modèle Random Forest OS - Fait(e) en 24s\n",
      "Meilleur seuil ROC : 0.200000\n",
      "Meilleur seuil PR : 0.020000\n"
     ]
    },
    {
     "data": {
      "image/png": "[encoded data removed]",
      "text/plain": [
       "<Figure size 864x360 with 2 Axes>"
      ]
     },
     "metadata": {
      "needs_background": "light"
     },
     "output_type": "display_data"
    },
    {
     "data": {
      "image/png": "[encoded data removed]",
      "text/plain": [
       "<Figure size 1080x360 with 4 Axes>"
      ]
     },
     "metadata": {
      "needs_background": "light"
     },
     "output_type": "display_data"
    },
    {
     "data": {
      "text/html": [
       "<div>\n",
       "<style scoped>\n",
       "    .dataframe tbody tr th:only-of-type {\n",
       "        vertical-align: middle;\n",
       "    }\n",
       "\n",
       "    .dataframe tbody tr th {\n",
       "        vertical-align: top;\n",
       "    }\n",
       "\n",
       "    .dataframe thead th {\n",
       "        text-align: right;\n",
       "    }\n",
       "</style>\n",
       "<table border=\"1\" class=\"dataframe\">\n",
       "  <thead>\n",
       "    <tr style=\"text-align: right;\">\n",
       "      <th></th>\n",
       "      <th>Modèle</th>\n",
       "      <th>roc_auc</th>\n",
       "      <th>CV roc_auc mean</th>\n",
       "      <th>CV roc_auc std</th>\n",
       "      <th>accuracy</th>\n",
       "      <th>CV accuracy mean</th>\n",
       "      <th>CV accuracy std</th>\n",
       "      <th>precision</th>\n",
       "      <th>CV precision mean</th>\n",
       "      <th>CV precision std</th>\n",
       "      <th>recall</th>\n",
       "      <th>CV recall mean</th>\n",
       "      <th>CV recall std</th>\n",
       "      <th>f1</th>\n",
       "      <th>CV f1 mean</th>\n",
       "      <th>CV f1 std</th>\n",
       "      <th>CV fit_time mean</th>\n",
       "      <th>CV fit_time std</th>\n",
       "      <th>CV score_time mean</th>\n",
       "      <th>CV score_time std</th>\n",
       "    </tr>\n",
       "  </thead>\n",
       "  <tbody>\n",
       "    <tr>\n",
       "      <th>0</th>\n",
       "      <td>Random Forest OS</td>\n",
       "      <td>0.69</td>\n",
       "      <td>0.99</td>\n",
       "      <td>0.00</td>\n",
       "      <td>0.92</td>\n",
       "      <td>0.96</td>\n",
       "      <td>0.00</td>\n",
       "      <td>0.30</td>\n",
       "      <td>1.00</td>\n",
       "      <td>0.00</td>\n",
       "      <td>0.01</td>\n",
       "      <td>0.92</td>\n",
       "      <td>0.00</td>\n",
       "      <td>0.02</td>\n",
       "      <td>0.96</td>\n",
       "      <td>0.00</td>\n",
       "      <td>17.70</td>\n",
       "      <td>0.73</td>\n",
       "      <td>0.41</td>\n",
       "      <td>0.01</td>\n",
       "    </tr>\n",
       "  </tbody>\n",
       "</table>\n",
       "</div>"
      ],
      "text/plain": [
       "             Modèle  roc_auc  CV roc_auc mean  CV roc_auc std  accuracy  CV accuracy mean  \\\n",
       "0  Random Forest OS     0.69             0.99            0.00      0.92              0.96   \n",
       "\n",
       "   CV accuracy std  precision  CV precision mean  CV precision std  recall  CV recall mean  \\\n",
       "0             0.00       0.30               1.00              0.00    0.01            0.92   \n",
       "\n",
       "   CV recall std   f1  CV f1 mean  CV f1 std  CV fit_time mean  CV fit_time std  \\\n",
       "0           0.00 0.02        0.96       0.00             17.70             0.73   \n",
       "\n",
       "   CV score_time mean  CV score_time std  \n",
       "0                0.41               0.01  "
      ]
     },
     "metadata": {},
     "output_type": "display_data"
    },
    {
     "name": "stdout",
     "output_type": "stream",
     "text": [
      "LightGBM OS\n",
      "Évaluation du modèle LightGBM OS...\n",
      "Validation croisée stratifiée du modèle LightGBM OS - Fait(e) en 59s\n",
      "Entraînement et prédictions du modèle LightGBM OS - Fait(e) en 11s\n",
      "Meilleur seuil ROC : 0.083670\n",
      "Meilleur seuil PR : 0.010880\n"
     ]
    },
    {
     "data": {
      "image/png": "[encoded data removed]",
      "text/plain": [
       "<Figure size 864x360 with 2 Axes>"
      ]
     },
     "metadata": {
      "needs_background": "light"
     },
     "output_type": "display_data"
    },
    {
     "data": {
      "image/png": "[encoded data removed]",
      "text/plain": [
       "<Figure size 1080x360 with 4 Axes>"
      ]
     },
     "metadata": {
      "needs_background": "light"
     },
     "output_type": "display_data"
    },
    {
     "data": {
      "text/html": [
       "<div>\n",
       "<style scoped>\n",
       "    .dataframe tbody tr th:only-of-type {\n",
       "        vertical-align: middle;\n",
       "    }\n",
       "\n",
       "    .dataframe tbody tr th {\n",
       "        vertical-align: top;\n",
       "    }\n",
       "\n",
       "    .dataframe thead th {\n",
       "        text-align: right;\n",
       "    }\n",
       "</style>\n",
       "<table border=\"1\" class=\"dataframe\">\n",
       "  <thead>\n",
       "    <tr style=\"text-align: right;\">\n",
       "      <th></th>\n",
       "      <th>Modèle</th>\n",
       "      <th>roc_auc</th>\n",
       "      <th>CV roc_auc mean</th>\n",
       "      <th>CV roc_auc std</th>\n",
       "      <th>accuracy</th>\n",
       "      <th>CV accuracy mean</th>\n",
       "      <th>CV accuracy std</th>\n",
       "      <th>precision</th>\n",
       "      <th>CV precision mean</th>\n",
       "      <th>CV precision std</th>\n",
       "      <th>recall</th>\n",
       "      <th>CV recall mean</th>\n",
       "      <th>CV recall std</th>\n",
       "      <th>f1</th>\n",
       "      <th>CV f1 mean</th>\n",
       "      <th>CV f1 std</th>\n",
       "      <th>CV fit_time mean</th>\n",
       "      <th>CV fit_time std</th>\n",
       "      <th>CV score_time mean</th>\n",
       "      <th>CV score_time std</th>\n",
       "    </tr>\n",
       "  </thead>\n",
       "  <tbody>\n",
       "    <tr>\n",
       "      <th>0</th>\n",
       "      <td>LightGBM OS</td>\n",
       "      <td>0.74</td>\n",
       "      <td>0.98</td>\n",
       "      <td>0.00</td>\n",
       "      <td>0.92</td>\n",
       "      <td>0.96</td>\n",
       "      <td>0.00</td>\n",
       "      <td>0.45</td>\n",
       "      <td>1.00</td>\n",
       "      <td>0.00</td>\n",
       "      <td>0.03</td>\n",
       "      <td>0.91</td>\n",
       "      <td>0.00</td>\n",
       "      <td>0.05</td>\n",
       "      <td>0.95</td>\n",
       "      <td>0.00</td>\n",
       "      <td>11.38</td>\n",
       "      <td>1.58</td>\n",
       "      <td>0.35</td>\n",
       "      <td>0.03</td>\n",
       "    </tr>\n",
       "  </tbody>\n",
       "</table>\n",
       "</div>"
      ],
      "text/plain": [
       "        Modèle  roc_auc  CV roc_auc mean  CV roc_auc std  accuracy  CV accuracy mean  \\\n",
       "0  LightGBM OS     0.74             0.98            0.00      0.92              0.96   \n",
       "\n",
       "   CV accuracy std  precision  CV precision mean  CV precision std  recall  CV recall mean  \\\n",
       "0             0.00       0.45               1.00              0.00    0.03            0.91   \n",
       "\n",
       "   CV recall std   f1  CV f1 mean  CV f1 std  CV fit_time mean  CV fit_time std  \\\n",
       "0           0.00 0.05        0.95       0.00             11.38             1.58   \n",
       "\n",
       "   CV score_time mean  CV score_time std  \n",
       "0                0.35               0.03  "
      ]
     },
     "metadata": {},
     "output_type": "display_data"
    }
   ],
   "source": [
    "# Pour comparaison après correction de l'approche CV SMOTE\n",
    "# for nom_modele, modele in modeles_os.items():\n",
    "#     print(nom_modele)\n",
    "#     pipeline = imbpipeline(steps = [['SMOTE', sm],\n",
    "#                                     ['Classifieur', modele]\n",
    "#                                    ])\n",
    "#     resultats_modele, dict_modele = eval_modele(\n",
    "#                                                 modele, nom_modele,\n",
    "#                                                 X_train, y_train,\n",
    "#                                                 X_test, y_test,\n",
    "#                                                 skfold, random_state, scoring,\n",
    "#                                                 threshold='ROC'\n",
    "#                                                 )\n",
    "#     resultats_evaluation = pd.concat([resultats_evaluation, resultats_modele], ignore_index=True)\n",
    "#     liste_modeles.append(dict_modele)\n",
    "#     display(resultats_modele)"
   ]
  },
  {
   "cell_type": "code",
   "execution_count": 68,
   "id": "6e94911f",
   "metadata": {},
   "outputs": [
    {
     "data": {
      "text/html": [
       "<div>\n",
       "<style scoped>\n",
       "    .dataframe tbody tr th:only-of-type {\n",
       "        vertical-align: middle;\n",
       "    }\n",
       "\n",
       "    .dataframe tbody tr th {\n",
       "        vertical-align: top;\n",
       "    }\n",
       "\n",
       "    .dataframe thead th {\n",
       "        text-align: right;\n",
       "    }\n",
       "</style>\n",
       "<table border=\"1\" class=\"dataframe\">\n",
       "  <thead>\n",
       "    <tr style=\"text-align: right;\">\n",
       "      <th></th>\n",
       "      <th>Modèle</th>\n",
       "      <th>roc_auc</th>\n",
       "      <th>CV roc_auc mean</th>\n",
       "      <th>CV roc_auc std</th>\n",
       "      <th>accuracy</th>\n",
       "      <th>CV accuracy mean</th>\n",
       "      <th>CV accuracy std</th>\n",
       "      <th>precision</th>\n",
       "      <th>CV precision mean</th>\n",
       "      <th>CV precision std</th>\n",
       "      <th>recall</th>\n",
       "      <th>CV recall mean</th>\n",
       "      <th>CV recall std</th>\n",
       "      <th>f1</th>\n",
       "      <th>CV f1 mean</th>\n",
       "      <th>CV f1 std</th>\n",
       "      <th>CV fit_time mean</th>\n",
       "      <th>CV fit_time std</th>\n",
       "      <th>CV score_time mean</th>\n",
       "      <th>CV score_time std</th>\n",
       "    </tr>\n",
       "  </thead>\n",
       "  <tbody>\n",
       "    <tr>\n",
       "      <th>0</th>\n",
       "      <td>Dummy Classifier</td>\n",
       "      <td>0.50</td>\n",
       "      <td>0.50</td>\n",
       "      <td>0.00</td>\n",
       "      <td>0.92</td>\n",
       "      <td>0.92</td>\n",
       "      <td>0.00</td>\n",
       "      <td>0.00</td>\n",
       "      <td>0.00</td>\n",
       "      <td>0.00</td>\n",
       "      <td>0.00</td>\n",
       "      <td>0.00</td>\n",
       "      <td>0.00</td>\n",
       "      <td>0.00</td>\n",
       "      <td>0.00</td>\n",
       "      <td>0.00</td>\n",
       "      <td>0.06</td>\n",
       "      <td>0.00</td>\n",
       "      <td>0.02</td>\n",
       "      <td>0.01</td>\n",
       "    </tr>\n",
       "    <tr>\n",
       "      <th>1</th>\n",
       "      <td>Random Forest</td>\n",
       "      <td>0.71</td>\n",
       "      <td>0.69</td>\n",
       "      <td>0.01</td>\n",
       "      <td>0.92</td>\n",
       "      <td>0.92</td>\n",
       "      <td>0.00</td>\n",
       "      <td>0.00</td>\n",
       "      <td>0.10</td>\n",
       "      <td>0.20</td>\n",
       "      <td>0.00</td>\n",
       "      <td>0.00</td>\n",
       "      <td>0.00</td>\n",
       "      <td>0.00</td>\n",
       "      <td>0.00</td>\n",
       "      <td>0.00</td>\n",
       "      <td>8.99</td>\n",
       "      <td>1.00</td>\n",
       "      <td>0.23</td>\n",
       "      <td>0.01</td>\n",
       "    </tr>\n",
       "    <tr>\n",
       "      <th>2</th>\n",
       "      <td>LightGBM</td>\n",
       "      <td>0.77</td>\n",
       "      <td>0.76</td>\n",
       "      <td>0.01</td>\n",
       "      <td>0.92</td>\n",
       "      <td>0.92</td>\n",
       "      <td>0.00</td>\n",
       "      <td>0.45</td>\n",
       "      <td>0.41</td>\n",
       "      <td>0.05</td>\n",
       "      <td>0.02</td>\n",
       "      <td>0.03</td>\n",
       "      <td>0.00</td>\n",
       "      <td>0.05</td>\n",
       "      <td>0.05</td>\n",
       "      <td>0.00</td>\n",
       "      <td>4.62</td>\n",
       "      <td>0.53</td>\n",
       "      <td>0.16</td>\n",
       "      <td>0.04</td>\n",
       "    </tr>\n",
       "    <tr>\n",
       "      <th>3</th>\n",
       "      <td>Gradient Boosting</td>\n",
       "      <td>0.76</td>\n",
       "      <td>0.76</td>\n",
       "      <td>0.01</td>\n",
       "      <td>0.92</td>\n",
       "      <td>0.92</td>\n",
       "      <td>0.00</td>\n",
       "      <td>0.61</td>\n",
       "      <td>0.42</td>\n",
       "      <td>0.04</td>\n",
       "      <td>0.02</td>\n",
       "      <td>0.02</td>\n",
       "      <td>0.00</td>\n",
       "      <td>0.04</td>\n",
       "      <td>0.03</td>\n",
       "      <td>0.01</td>\n",
       "      <td>124.67</td>\n",
       "      <td>0.39</td>\n",
       "      <td>0.19</td>\n",
       "      <td>0.00</td>\n",
       "    </tr>\n",
       "    <tr>\n",
       "      <th>4</th>\n",
       "      <td>Random Forest balanced</td>\n",
       "      <td>0.73</td>\n",
       "      <td>0.71</td>\n",
       "      <td>0.01</td>\n",
       "      <td>0.92</td>\n",
       "      <td>0.92</td>\n",
       "      <td>0.00</td>\n",
       "      <td>0.00</td>\n",
       "      <td>0.20</td>\n",
       "      <td>0.40</td>\n",
       "      <td>0.00</td>\n",
       "      <td>0.00</td>\n",
       "      <td>0.00</td>\n",
       "      <td>0.00</td>\n",
       "      <td>0.00</td>\n",
       "      <td>0.00</td>\n",
       "      <td>6.49</td>\n",
       "      <td>0.68</td>\n",
       "      <td>0.21</td>\n",
       "      <td>0.01</td>\n",
       "    </tr>\n",
       "    <tr>\n",
       "      <th>5</th>\n",
       "      <td>LightGBM balanced</td>\n",
       "      <td>0.76</td>\n",
       "      <td>0.76</td>\n",
       "      <td>0.01</td>\n",
       "      <td>0.78</td>\n",
       "      <td>0.79</td>\n",
       "      <td>0.01</td>\n",
       "      <td>0.20</td>\n",
       "      <td>0.20</td>\n",
       "      <td>0.01</td>\n",
       "      <td>0.57</td>\n",
       "      <td>0.55</td>\n",
       "      <td>0.02</td>\n",
       "      <td>0.29</td>\n",
       "      <td>0.29</td>\n",
       "      <td>0.01</td>\n",
       "      <td>5.48</td>\n",
       "      <td>0.36</td>\n",
       "      <td>0.23</td>\n",
       "      <td>0.01</td>\n",
       "    </tr>\n",
       "    <tr>\n",
       "      <th>6</th>\n",
       "      <td>Dummy Classifier OS</td>\n",
       "      <td>0.50</td>\n",
       "      <td>0.50</td>\n",
       "      <td>0.00</td>\n",
       "      <td>0.92</td>\n",
       "      <td>0.50</td>\n",
       "      <td>0.00</td>\n",
       "      <td>0.00</td>\n",
       "      <td>0.00</td>\n",
       "      <td>0.00</td>\n",
       "      <td>0.00</td>\n",
       "      <td>0.00</td>\n",
       "      <td>0.00</td>\n",
       "      <td>0.00</td>\n",
       "      <td>0.00</td>\n",
       "      <td>0.00</td>\n",
       "      <td>0.37</td>\n",
       "      <td>0.26</td>\n",
       "      <td>0.03</td>\n",
       "      <td>0.00</td>\n",
       "    </tr>\n",
       "    <tr>\n",
       "      <th>7</th>\n",
       "      <td>Random Forest OS</td>\n",
       "      <td>0.69</td>\n",
       "      <td>0.99</td>\n",
       "      <td>0.00</td>\n",
       "      <td>0.92</td>\n",
       "      <td>0.96</td>\n",
       "      <td>0.00</td>\n",
       "      <td>0.30</td>\n",
       "      <td>1.00</td>\n",
       "      <td>0.00</td>\n",
       "      <td>0.01</td>\n",
       "      <td>0.92</td>\n",
       "      <td>0.00</td>\n",
       "      <td>0.02</td>\n",
       "      <td>0.96</td>\n",
       "      <td>0.00</td>\n",
       "      <td>17.70</td>\n",
       "      <td>0.73</td>\n",
       "      <td>0.41</td>\n",
       "      <td>0.01</td>\n",
       "    </tr>\n",
       "    <tr>\n",
       "      <th>8</th>\n",
       "      <td>LightGBM OS</td>\n",
       "      <td>0.74</td>\n",
       "      <td>0.98</td>\n",
       "      <td>0.00</td>\n",
       "      <td>0.92</td>\n",
       "      <td>0.96</td>\n",
       "      <td>0.00</td>\n",
       "      <td>0.45</td>\n",
       "      <td>1.00</td>\n",
       "      <td>0.00</td>\n",
       "      <td>0.03</td>\n",
       "      <td>0.91</td>\n",
       "      <td>0.00</td>\n",
       "      <td>0.05</td>\n",
       "      <td>0.95</td>\n",
       "      <td>0.00</td>\n",
       "      <td>11.38</td>\n",
       "      <td>1.58</td>\n",
       "      <td>0.35</td>\n",
       "      <td>0.03</td>\n",
       "    </tr>\n",
       "  </tbody>\n",
       "</table>\n",
       "</div>"
      ],
      "text/plain": [
       "                   Modèle  roc_auc  CV roc_auc mean  CV roc_auc std  accuracy  CV accuracy mean  \\\n",
       "0        Dummy Classifier     0.50             0.50            0.00      0.92              0.92   \n",
       "1           Random Forest     0.71             0.69            0.01      0.92              0.92   \n",
       "2                LightGBM     0.77             0.76            0.01      0.92              0.92   \n",
       "3       Gradient Boosting     0.76             0.76            0.01      0.92              0.92   \n",
       "4  Random Forest balanced     0.73             0.71            0.01      0.92              0.92   \n",
       "5       LightGBM balanced     0.76             0.76            0.01      0.78              0.79   \n",
       "6     Dummy Classifier OS     0.50             0.50            0.00      0.92              0.50   \n",
       "7        Random Forest OS     0.69             0.99            0.00      0.92              0.96   \n",
       "8             LightGBM OS     0.74             0.98            0.00      0.92              0.96   \n",
       "\n",
       "   CV accuracy std  precision  CV precision mean  CV precision std  recall  CV recall mean  \\\n",
       "0             0.00       0.00               0.00              0.00    0.00            0.00   \n",
       "1             0.00       0.00               0.10              0.20    0.00            0.00   \n",
       "2             0.00       0.45               0.41              0.05    0.02            0.03   \n",
       "3             0.00       0.61               0.42              0.04    0.02            0.02   \n",
       "4             0.00       0.00               0.20              0.40    0.00            0.00   \n",
       "5             0.01       0.20               0.20              0.01    0.57            0.55   \n",
       "6             0.00       0.00               0.00              0.00    0.00            0.00   \n",
       "7             0.00       0.30               1.00              0.00    0.01            0.92   \n",
       "8             0.00       0.45               1.00              0.00    0.03            0.91   \n",
       "\n",
       "   CV recall std   f1  CV f1 mean  CV f1 std  CV fit_time mean  CV fit_time std  \\\n",
       "0           0.00 0.00        0.00       0.00              0.06             0.00   \n",
       "1           0.00 0.00        0.00       0.00              8.99             1.00   \n",
       "2           0.00 0.05        0.05       0.00              4.62             0.53   \n",
       "3           0.00 0.04        0.03       0.01            124.67             0.39   \n",
       "4           0.00 0.00        0.00       0.00              6.49             0.68   \n",
       "5           0.02 0.29        0.29       0.01              5.48             0.36   \n",
       "6           0.00 0.00        0.00       0.00              0.37             0.26   \n",
       "7           0.00 0.02        0.96       0.00             17.70             0.73   \n",
       "8           0.00 0.05        0.95       0.00             11.38             1.58   \n",
       "\n",
       "   CV score_time mean  CV score_time std  \n",
       "0                0.02               0.01  \n",
       "1                0.23               0.01  \n",
       "2                0.16               0.04  \n",
       "3                0.19               0.00  \n",
       "4                0.21               0.01  \n",
       "5                0.23               0.01  \n",
       "6                0.03               0.00  \n",
       "7                0.41               0.01  \n",
       "8                0.35               0.03  "
      ]
     },
     "execution_count": 68,
     "metadata": {},
     "output_type": "execute_result"
    }
   ],
   "source": [
    "resultats_evaluation"
   ]
  },
  {
   "cell_type": "code",
   "execution_count": 68,
   "id": "ab9eaa9e",
   "metadata": {},
   "outputs": [
    {
     "data": {
      "text/html": [
       "<div>\n",
       "<style scoped>\n",
       "    .dataframe tbody tr th:only-of-type {\n",
       "        vertical-align: middle;\n",
       "    }\n",
       "\n",
       "    .dataframe tbody tr th {\n",
       "        vertical-align: top;\n",
       "    }\n",
       "\n",
       "    .dataframe thead th {\n",
       "        text-align: right;\n",
       "    }\n",
       "</style>\n",
       "<table border=\"1\" class=\"dataframe\">\n",
       "  <thead>\n",
       "    <tr style=\"text-align: right;\">\n",
       "      <th></th>\n",
       "      <th>Modèle</th>\n",
       "      <th>roc_auc</th>\n",
       "      <th>CV roc_auc mean</th>\n",
       "      <th>CV roc_auc std</th>\n",
       "      <th>accuracy</th>\n",
       "      <th>CV accuracy mean</th>\n",
       "      <th>CV accuracy std</th>\n",
       "      <th>precision</th>\n",
       "      <th>CV precision mean</th>\n",
       "      <th>CV precision std</th>\n",
       "      <th>recall</th>\n",
       "      <th>CV recall mean</th>\n",
       "      <th>CV recall std</th>\n",
       "      <th>f1</th>\n",
       "      <th>CV f1 mean</th>\n",
       "      <th>CV f1 std</th>\n",
       "      <th>CV fit_time mean</th>\n",
       "      <th>CV fit_time std</th>\n",
       "      <th>CV score_time mean</th>\n",
       "      <th>CV score_time std</th>\n",
       "    </tr>\n",
       "  </thead>\n",
       "  <tbody>\n",
       "    <tr>\n",
       "      <th>0</th>\n",
       "      <td>Dummy Classifier</td>\n",
       "      <td>0.50</td>\n",
       "      <td>0.50</td>\n",
       "      <td>0.00</td>\n",
       "      <td>0.92</td>\n",
       "      <td>0.92</td>\n",
       "      <td>0.00</td>\n",
       "      <td>0.00</td>\n",
       "      <td>0.00</td>\n",
       "      <td>0.00</td>\n",
       "      <td>0.00</td>\n",
       "      <td>0.00</td>\n",
       "      <td>0.00</td>\n",
       "      <td>0.00</td>\n",
       "      <td>0.00</td>\n",
       "      <td>0.00</td>\n",
       "      <td>0.06</td>\n",
       "      <td>0.00</td>\n",
       "      <td>0.02</td>\n",
       "      <td>0.01</td>\n",
       "    </tr>\n",
       "    <tr>\n",
       "      <th>1</th>\n",
       "      <td>Random Forest</td>\n",
       "      <td>0.71</td>\n",
       "      <td>0.69</td>\n",
       "      <td>0.01</td>\n",
       "      <td>0.92</td>\n",
       "      <td>0.92</td>\n",
       "      <td>0.00</td>\n",
       "      <td>0.00</td>\n",
       "      <td>0.10</td>\n",
       "      <td>0.20</td>\n",
       "      <td>0.00</td>\n",
       "      <td>0.00</td>\n",
       "      <td>0.00</td>\n",
       "      <td>0.00</td>\n",
       "      <td>0.00</td>\n",
       "      <td>0.00</td>\n",
       "      <td>8.99</td>\n",
       "      <td>1.00</td>\n",
       "      <td>0.23</td>\n",
       "      <td>0.01</td>\n",
       "    </tr>\n",
       "    <tr>\n",
       "      <th>2</th>\n",
       "      <td>LightGBM</td>\n",
       "      <td>0.77</td>\n",
       "      <td>0.76</td>\n",
       "      <td>0.01</td>\n",
       "      <td>0.92</td>\n",
       "      <td>0.92</td>\n",
       "      <td>0.00</td>\n",
       "      <td>0.45</td>\n",
       "      <td>0.41</td>\n",
       "      <td>0.05</td>\n",
       "      <td>0.02</td>\n",
       "      <td>0.03</td>\n",
       "      <td>0.00</td>\n",
       "      <td>0.05</td>\n",
       "      <td>0.05</td>\n",
       "      <td>0.00</td>\n",
       "      <td>4.62</td>\n",
       "      <td>0.53</td>\n",
       "      <td>0.16</td>\n",
       "      <td>0.04</td>\n",
       "    </tr>\n",
       "    <tr>\n",
       "      <th>3</th>\n",
       "      <td>Gradient Boosting</td>\n",
       "      <td>0.76</td>\n",
       "      <td>0.76</td>\n",
       "      <td>0.01</td>\n",
       "      <td>0.92</td>\n",
       "      <td>0.92</td>\n",
       "      <td>0.00</td>\n",
       "      <td>0.61</td>\n",
       "      <td>0.42</td>\n",
       "      <td>0.04</td>\n",
       "      <td>0.02</td>\n",
       "      <td>0.02</td>\n",
       "      <td>0.00</td>\n",
       "      <td>0.04</td>\n",
       "      <td>0.03</td>\n",
       "      <td>0.01</td>\n",
       "      <td>124.67</td>\n",
       "      <td>0.39</td>\n",
       "      <td>0.19</td>\n",
       "      <td>0.00</td>\n",
       "    </tr>\n",
       "    <tr>\n",
       "      <th>4</th>\n",
       "      <td>Random Forest balanced</td>\n",
       "      <td>0.73</td>\n",
       "      <td>0.71</td>\n",
       "      <td>0.01</td>\n",
       "      <td>0.92</td>\n",
       "      <td>0.92</td>\n",
       "      <td>0.00</td>\n",
       "      <td>0.00</td>\n",
       "      <td>0.20</td>\n",
       "      <td>0.40</td>\n",
       "      <td>0.00</td>\n",
       "      <td>0.00</td>\n",
       "      <td>0.00</td>\n",
       "      <td>0.00</td>\n",
       "      <td>0.00</td>\n",
       "      <td>0.00</td>\n",
       "      <td>6.49</td>\n",
       "      <td>0.68</td>\n",
       "      <td>0.21</td>\n",
       "      <td>0.01</td>\n",
       "    </tr>\n",
       "    <tr>\n",
       "      <th>5</th>\n",
       "      <td>LightGBM balanced</td>\n",
       "      <td>0.76</td>\n",
       "      <td>0.76</td>\n",
       "      <td>0.01</td>\n",
       "      <td>0.78</td>\n",
       "      <td>0.79</td>\n",
       "      <td>0.01</td>\n",
       "      <td>0.20</td>\n",
       "      <td>0.20</td>\n",
       "      <td>0.01</td>\n",
       "      <td>0.57</td>\n",
       "      <td>0.55</td>\n",
       "      <td>0.02</td>\n",
       "      <td>0.29</td>\n",
       "      <td>0.29</td>\n",
       "      <td>0.01</td>\n",
       "      <td>5.48</td>\n",
       "      <td>0.36</td>\n",
       "      <td>0.23</td>\n",
       "      <td>0.01</td>\n",
       "    </tr>\n",
       "    <tr>\n",
       "      <th>6</th>\n",
       "      <td>Dummy Classifier OS</td>\n",
       "      <td>0.50</td>\n",
       "      <td>0.50</td>\n",
       "      <td>0.00</td>\n",
       "      <td>0.92</td>\n",
       "      <td>0.50</td>\n",
       "      <td>0.00</td>\n",
       "      <td>0.00</td>\n",
       "      <td>0.00</td>\n",
       "      <td>0.00</td>\n",
       "      <td>0.00</td>\n",
       "      <td>0.00</td>\n",
       "      <td>0.00</td>\n",
       "      <td>0.00</td>\n",
       "      <td>0.00</td>\n",
       "      <td>0.00</td>\n",
       "      <td>0.37</td>\n",
       "      <td>0.26</td>\n",
       "      <td>0.03</td>\n",
       "      <td>0.00</td>\n",
       "    </tr>\n",
       "    <tr>\n",
       "      <th>7</th>\n",
       "      <td>Random Forest OS</td>\n",
       "      <td>0.69</td>\n",
       "      <td>0.99</td>\n",
       "      <td>0.00</td>\n",
       "      <td>0.92</td>\n",
       "      <td>0.96</td>\n",
       "      <td>0.00</td>\n",
       "      <td>0.30</td>\n",
       "      <td>1.00</td>\n",
       "      <td>0.00</td>\n",
       "      <td>0.01</td>\n",
       "      <td>0.92</td>\n",
       "      <td>0.00</td>\n",
       "      <td>0.02</td>\n",
       "      <td>0.96</td>\n",
       "      <td>0.00</td>\n",
       "      <td>17.70</td>\n",
       "      <td>0.73</td>\n",
       "      <td>0.41</td>\n",
       "      <td>0.01</td>\n",
       "    </tr>\n",
       "    <tr>\n",
       "      <th>8</th>\n",
       "      <td>LightGBM OS</td>\n",
       "      <td>0.74</td>\n",
       "      <td>0.98</td>\n",
       "      <td>0.00</td>\n",
       "      <td>0.92</td>\n",
       "      <td>0.96</td>\n",
       "      <td>0.00</td>\n",
       "      <td>0.45</td>\n",
       "      <td>1.00</td>\n",
       "      <td>0.00</td>\n",
       "      <td>0.03</td>\n",
       "      <td>0.91</td>\n",
       "      <td>0.00</td>\n",
       "      <td>0.05</td>\n",
       "      <td>0.95</td>\n",
       "      <td>0.00</td>\n",
       "      <td>11.38</td>\n",
       "      <td>1.58</td>\n",
       "      <td>0.35</td>\n",
       "      <td>0.03</td>\n",
       "    </tr>\n",
       "  </tbody>\n",
       "</table>\n",
       "</div>"
      ],
      "text/plain": [
       "                   Modèle  roc_auc  CV roc_auc mean  CV roc_auc std  accuracy  CV accuracy mean  \\\n",
       "0        Dummy Classifier     0.50             0.50            0.00      0.92              0.92   \n",
       "1           Random Forest     0.71             0.69            0.01      0.92              0.92   \n",
       "2                LightGBM     0.77             0.76            0.01      0.92              0.92   \n",
       "3       Gradient Boosting     0.76             0.76            0.01      0.92              0.92   \n",
       "4  Random Forest balanced     0.73             0.71            0.01      0.92              0.92   \n",
       "5       LightGBM balanced     0.76             0.76            0.01      0.78              0.79   \n",
       "6     Dummy Classifier OS     0.50             0.50            0.00      0.92              0.50   \n",
       "7        Random Forest OS     0.69             0.99            0.00      0.92              0.96   \n",
       "8             LightGBM OS     0.74             0.98            0.00      0.92              0.96   \n",
       "\n",
       "   CV accuracy std  precision  CV precision mean  CV precision std  recall  CV recall mean  \\\n",
       "0             0.00       0.00               0.00              0.00    0.00            0.00   \n",
       "1             0.00       0.00               0.10              0.20    0.00            0.00   \n",
       "2             0.00       0.45               0.41              0.05    0.02            0.03   \n",
       "3             0.00       0.61               0.42              0.04    0.02            0.02   \n",
       "4             0.00       0.00               0.20              0.40    0.00            0.00   \n",
       "5             0.01       0.20               0.20              0.01    0.57            0.55   \n",
       "6             0.00       0.00               0.00              0.00    0.00            0.00   \n",
       "7             0.00       0.30               1.00              0.00    0.01            0.92   \n",
       "8             0.00       0.45               1.00              0.00    0.03            0.91   \n",
       "\n",
       "   CV recall std   f1  CV f1 mean  CV f1 std  CV fit_time mean  CV fit_time std  \\\n",
       "0           0.00 0.00        0.00       0.00              0.06             0.00   \n",
       "1           0.00 0.00        0.00       0.00              8.99             1.00   \n",
       "2           0.00 0.05        0.05       0.00              4.62             0.53   \n",
       "3           0.00 0.04        0.03       0.01            124.67             0.39   \n",
       "4           0.00 0.00        0.00       0.00              6.49             0.68   \n",
       "5           0.02 0.29        0.29       0.01              5.48             0.36   \n",
       "6           0.00 0.00        0.00       0.00              0.37             0.26   \n",
       "7           0.00 0.02        0.96       0.00             17.70             0.73   \n",
       "8           0.00 0.05        0.95       0.00             11.38             1.58   \n",
       "\n",
       "   CV score_time mean  CV score_time std  \n",
       "0                0.02               0.01  \n",
       "1                0.23               0.01  \n",
       "2                0.16               0.04  \n",
       "3                0.19               0.00  \n",
       "4                0.21               0.01  \n",
       "5                0.23               0.01  \n",
       "6                0.03               0.00  \n",
       "7                0.41               0.01  \n",
       "8                0.35               0.03  "
      ]
     },
     "execution_count": 68,
     "metadata": {},
     "output_type": "execute_result"
    }
   ],
   "source": [
    "# Pour comparaison au résultats avec une CV SMOTE correcte (en erreur ici)\n",
    "#resultats_evaluation"
   ]
  },
  {
   "cell_type": "markdown",
   "id": "295bfe1d",
   "metadata": {},
   "source": [
    "On observe un overfitting sur la métrique ROC_AUC, sans meilleure capacité de généralisation. La plupart des autres métriques sont améliorées, en dehors du score F1, qui est moins bon dans le cas de lightgbm."
   ]
  },
  {
   "cell_type": "markdown",
   "id": "45504a95",
   "metadata": {},
   "source": [
    "### Sous-échantillonnage\n",
    "Le sous échantillonnage consisterait à considérer l'intégralité des individus de classe positive (3970 individus en défaut de paiement dans notre échantillon d'entraînement), et autant d'individus de la classe négative (sans incident de paiement). Nous laissons donc de côté 45230 - 3970 = 41260 individus, ce qui risque d'impacter négativement l'entraînement du modèle.\n",
    "Faute d'intérêt et de temps nous ne testerons donc pas le sous-échantillonnage dans l'immédiat."
   ]
  },
  {
   "cell_type": "markdown",
   "id": "9cc4151c",
   "metadata": {},
   "source": [
    "## Optimisation des hyperparamètres\n",
    "Nous allons ici tenter d'optimiser les hyperparamètres des modèles les plus performants jusque là."
   ]
  },
  {
   "cell_type": "code",
   "execution_count": 124,
   "id": "f9cb2531",
   "metadata": {},
   "outputs": [],
   "source": [
    "modeles_os_ohp = {\n",
    "                    'Random Forest OS': RandomForestClassifier(n_jobs=-1, random_state=82),\n",
    "                    'LightGBM OS': LGBMClassifier(random_state=82)\n",
    "                }"
   ]
  },
  {
   "cell_type": "code",
   "execution_count": 125,
   "id": "b57dc5ae",
   "metadata": {},
   "outputs": [
    {
     "name": "stdout",
     "output_type": "stream",
     "text": [
      "\n",
      " Random Forest OS\n"
     ]
    },
    {
     "data": {
      "text/plain": [
       "{'bootstrap': True,\n",
       " 'ccp_alpha': 0.0,\n",
       " 'class_weight': None,\n",
       " 'criterion': 'gini',\n",
       " 'max_depth': None,\n",
       " 'max_features': 'auto',\n",
       " 'max_leaf_nodes': None,\n",
       " 'max_samples': None,\n",
       " 'min_impurity_decrease': 0.0,\n",
       " 'min_samples_leaf': 1,\n",
       " 'min_samples_split': 2,\n",
       " 'min_weight_fraction_leaf': 0.0,\n",
       " 'n_estimators': 100,\n",
       " 'n_jobs': -1,\n",
       " 'oob_score': False,\n",
       " 'random_state': 82,\n",
       " 'verbose': 0,\n",
       " 'warm_start': False}"
      ]
     },
     "metadata": {},
     "output_type": "display_data"
    },
    {
     "name": "stdout",
     "output_type": "stream",
     "text": [
      "\n",
      " LightGBM OS\n"
     ]
    },
    {
     "data": {
      "text/plain": [
       "{'boosting_type': 'gbdt',\n",
       " 'class_weight': None,\n",
       " 'colsample_bytree': 1.0,\n",
       " 'importance_type': 'split',\n",
       " 'learning_rate': 0.1,\n",
       " 'max_depth': -1,\n",
       " 'min_child_samples': 20,\n",
       " 'min_child_weight': 0.001,\n",
       " 'min_split_gain': 0.0,\n",
       " 'n_estimators': 100,\n",
       " 'n_jobs': -1,\n",
       " 'num_leaves': 31,\n",
       " 'objective': None,\n",
       " 'random_state': 82,\n",
       " 'reg_alpha': 0.0,\n",
       " 'reg_lambda': 0.0,\n",
       " 'silent': 'warn',\n",
       " 'subsample': 1.0,\n",
       " 'subsample_for_bin': 200000,\n",
       " 'subsample_freq': 0}"
      ]
     },
     "metadata": {},
     "output_type": "display_data"
    }
   ],
   "source": [
    "# Observons les paramètres par défauts des modèles\n",
    "for nom, modele in modeles_os_ohp.items():\n",
    "    print('\\n', nom)\n",
    "    display(modele.get_params())"
   ]
  },
  {
   "cell_type": "markdown",
   "id": "aaab46e7",
   "metadata": {},
   "source": [
    "### LightGBM\n",
    "Recherchons les meilleurs hyperparamètres pour le modèle basé sur LightGBM avec une recherche croisée sur grille :"
   ]
  },
  {
   "cell_type": "code",
   "execution_count": 156,
   "id": "46dc8922",
   "metadata": {},
   "outputs": [],
   "source": [
    "# Paramètres LightGBM trouvés par optimisation Bayesienne (tirés du kernel Kaggle ayant servi de modèle)\n",
    "param_grid = {\n",
    "                \"colsample_bytree\" : [0.9497036, 1], # 1 = Default\n",
    "                \"learning_rate\": [0.2], # default : 0.1\n",
    "                \"max_depth\": [-1, 8], # default : -1\n",
    "                \"min_child_weight\" : [39.3259775], # default : 0.001\n",
    "                \"min_split_gain\" : [0.0222415], # default : 0.0\n",
    "                \"n_estimators\" : [10000], # default : 100\n",
    "                #\"n_jobs\" : [4, 8],\n",
    "                \"num_leaves\": [34], # default : 31\n",
    "                \"reg_alpha\" : [0.041545473], # default : 0.0\n",
    "                \"reg_lambda\": [0.0735294], # 0.0\n",
    "                \"subsample\" : [0.8715623], # default : 1\n",
    "}"
   ]
  },
  {
   "cell_type": "code",
   "execution_count": 157,
   "id": "3c2d48d5",
   "metadata": {},
   "outputs": [],
   "source": [
    "gscv = GridSearchCV(\n",
    "                    LGBMClassifier(random_state=82),\n",
    "                    param_grid,\n",
    "                    scoring=\"roc_auc\",\n",
    "                    cv=skfold,\n",
    "                    n_jobs=-1\n",
    ")"
   ]
  },
  {
   "cell_type": "code",
   "execution_count": 158,
   "id": "3a3069e6",
   "metadata": {},
   "outputs": [],
   "source": [
    "gscv_results = gscv.fit(X_os, y_os)"
   ]
  },
  {
   "cell_type": "code",
   "execution_count": 159,
   "id": "5268a790",
   "metadata": {},
   "outputs": [
    {
     "data": {
      "text/plain": [
       "0.9801279885757463"
      ]
     },
     "execution_count": 159,
     "metadata": {},
     "output_type": "execute_result"
    }
   ],
   "source": [
    "gscv_results.best_score_"
   ]
  },
  {
   "cell_type": "code",
   "execution_count": 160,
   "id": "9f529105",
   "metadata": {},
   "outputs": [
    {
     "data": {
      "text/plain": [
       "{'colsample_bytree': 1,\n",
       " 'learning_rate': 0.2,\n",
       " 'max_depth': -1,\n",
       " 'min_child_weight': 39.3259775,\n",
       " 'min_split_gain': 0.0222415,\n",
       " 'n_estimators': 10000,\n",
       " 'num_leaves': 34,\n",
       " 'reg_alpha': 0.041545473,\n",
       " 'reg_lambda': 0.0735294,\n",
       " 'subsample': 0.8715623}"
      ]
     },
     "execution_count": 160,
     "metadata": {},
     "output_type": "execute_result"
    }
   ],
   "source": [
    "gscv_results.best_params_"
   ]
  },
  {
   "cell_type": "code",
   "execution_count": 162,
   "id": "b25f6b27",
   "metadata": {},
   "outputs": [
    {
     "data": {
      "text/plain": [
       "LGBMClassifier(colsample_bytree=1, learning_rate=0.2,\n",
       "               min_child_weight=39.3259775, min_split_gain=0.0222415,\n",
       "               n_estimators=10000, num_leaves=34, random_state=82,\n",
       "               reg_alpha=0.041545473, reg_lambda=0.0735294,\n",
       "               subsample=0.8715623)"
      ]
     },
     "execution_count": 162,
     "metadata": {},
     "output_type": "execute_result"
    }
   ],
   "source": [
    "gscv.best_estimator_"
   ]
  },
  {
   "cell_type": "code",
   "execution_count": 163,
   "id": "b7a030b5",
   "metadata": {},
   "outputs": [],
   "source": [
    "modele = gscv_results.best_estimator_\n",
    "nom_modele = \"LightGBM OS Opt\""
   ]
  },
  {
   "cell_type": "code",
   "execution_count": 164,
   "id": "47ebabc4",
   "metadata": {
    "scrolled": false
   },
   "outputs": [
    {
     "name": "stdout",
     "output_type": "stream",
     "text": [
      "Évaluation du modèle LightGBM OS Opt...\n",
      "Validation croisée stratifiée du modèle LightGBM OS Opt - Fait(e) en 1315s\n",
      "Entraînement et prédictions du modèle LightGBM OS Opt - Fait(e) en 210s\n",
      "Meilleur seuil ROC : 0.008261\n",
      "Meilleur seuil PR : 0.000011\n"
     ]
    },
    {
     "data": {
      "image/png": "[encoded data removed]",
      "text/plain": [
       "<Figure size 864x360 with 2 Axes>"
      ]
     },
     "metadata": {
      "needs_background": "light"
     },
     "output_type": "display_data"
    },
    {
     "data": {
      "image/png": "[encoded data removed]",
      "text/plain": [
       "<Figure size 1080x360 with 4 Axes>"
      ]
     },
     "metadata": {
      "needs_background": "light"
     },
     "output_type": "display_data"
    },
    {
     "data": {
      "text/html": [
       "<div>\n",
       "<style scoped>\n",
       "    .dataframe tbody tr th:only-of-type {\n",
       "        vertical-align: middle;\n",
       "    }\n",
       "\n",
       "    .dataframe tbody tr th {\n",
       "        vertical-align: top;\n",
       "    }\n",
       "\n",
       "    .dataframe thead th {\n",
       "        text-align: right;\n",
       "    }\n",
       "</style>\n",
       "<table border=\"1\" class=\"dataframe\">\n",
       "  <thead>\n",
       "    <tr style=\"text-align: right;\">\n",
       "      <th></th>\n",
       "      <th>Modèle</th>\n",
       "      <th>roc_auc</th>\n",
       "      <th>CV roc_auc mean</th>\n",
       "      <th>CV roc_auc std</th>\n",
       "      <th>accuracy</th>\n",
       "      <th>CV accuracy mean</th>\n",
       "      <th>CV accuracy std</th>\n",
       "      <th>precision</th>\n",
       "      <th>CV precision mean</th>\n",
       "      <th>CV precision std</th>\n",
       "      <th>recall</th>\n",
       "      <th>CV recall mean</th>\n",
       "      <th>CV recall std</th>\n",
       "      <th>f1</th>\n",
       "      <th>CV f1 mean</th>\n",
       "      <th>CV f1 std</th>\n",
       "      <th>CV fit_time mean</th>\n",
       "      <th>CV fit_time std</th>\n",
       "      <th>CV score_time mean</th>\n",
       "      <th>CV score_time std</th>\n",
       "    </tr>\n",
       "  </thead>\n",
       "  <tbody>\n",
       "    <tr>\n",
       "      <th>0</th>\n",
       "      <td>LightGBM OS Opt</td>\n",
       "      <td>0.72</td>\n",
       "      <td>0.98</td>\n",
       "      <td>0.00</td>\n",
       "      <td>0.91</td>\n",
       "      <td>0.95</td>\n",
       "      <td>0.00</td>\n",
       "      <td>0.31</td>\n",
       "      <td>0.99</td>\n",
       "      <td>0.00</td>\n",
       "      <td>0.06</td>\n",
       "      <td>0.92</td>\n",
       "      <td>0.00</td>\n",
       "      <td>0.10</td>\n",
       "      <td>0.95</td>\n",
       "      <td>0.00</td>\n",
       "      <td>261.97</td>\n",
       "      <td>56.79</td>\n",
       "      <td>1.03</td>\n",
       "      <td>0.07</td>\n",
       "    </tr>\n",
       "  </tbody>\n",
       "</table>\n",
       "</div>"
      ],
      "text/plain": [
       "            Modèle  roc_auc  CV roc_auc mean  CV roc_auc std  accuracy  CV accuracy mean  \\\n",
       "0  LightGBM OS Opt     0.72             0.98            0.00      0.91              0.95   \n",
       "\n",
       "   CV accuracy std  precision  CV precision mean  CV precision std  recall  CV recall mean  \\\n",
       "0             0.00       0.31               0.99              0.00    0.06            0.92   \n",
       "\n",
       "   CV recall std   f1  CV f1 mean  CV f1 std  CV fit_time mean  CV fit_time std  \\\n",
       "0           0.00 0.10        0.95       0.00            261.97            56.79   \n",
       "\n",
       "   CV score_time mean  CV score_time std  \n",
       "0                1.03               0.07  "
      ]
     },
     "metadata": {},
     "output_type": "display_data"
    }
   ],
   "source": [
    "# Évaluons le modèle pour le comparer aux précédents\n",
    "resultats_modele, dict_modele = eval_modele(\n",
    "                                                modele, nom_modele,\n",
    "                                                X_os, y_os,\n",
    "                                                X_test, y_test,\n",
    "                                                skfold, random_state, scoring\n",
    "                                                )\n",
    "resultats_evaluation = pd.concat([resultats_evaluation, resultats_modele], ignore_index=True)\n",
    "liste_modeles.append(dict_modele)\n",
    "display(resultats_modele)"
   ]
  },
  {
   "cell_type": "code",
   "execution_count": 165,
   "id": "e3e12929",
   "metadata": {},
   "outputs": [
    {
     "data": {
      "text/html": [
       "<div>\n",
       "<style scoped>\n",
       "    .dataframe tbody tr th:only-of-type {\n",
       "        vertical-align: middle;\n",
       "    }\n",
       "\n",
       "    .dataframe tbody tr th {\n",
       "        vertical-align: top;\n",
       "    }\n",
       "\n",
       "    .dataframe thead th {\n",
       "        text-align: right;\n",
       "    }\n",
       "</style>\n",
       "<table border=\"1\" class=\"dataframe\">\n",
       "  <thead>\n",
       "    <tr style=\"text-align: right;\">\n",
       "      <th></th>\n",
       "      <th>Modèle</th>\n",
       "      <th>roc_auc</th>\n",
       "      <th>CV roc_auc mean</th>\n",
       "      <th>CV roc_auc std</th>\n",
       "      <th>accuracy</th>\n",
       "      <th>CV accuracy mean</th>\n",
       "      <th>CV accuracy std</th>\n",
       "      <th>precision</th>\n",
       "      <th>CV precision mean</th>\n",
       "      <th>CV precision std</th>\n",
       "      <th>recall</th>\n",
       "      <th>CV recall mean</th>\n",
       "      <th>CV recall std</th>\n",
       "      <th>f1</th>\n",
       "      <th>CV f1 mean</th>\n",
       "      <th>CV f1 std</th>\n",
       "      <th>CV fit_time mean</th>\n",
       "      <th>CV fit_time std</th>\n",
       "      <th>CV score_time mean</th>\n",
       "      <th>CV score_time std</th>\n",
       "    </tr>\n",
       "  </thead>\n",
       "  <tbody>\n",
       "    <tr>\n",
       "      <th>0</th>\n",
       "      <td>Dummy Classifier</td>\n",
       "      <td>0.50</td>\n",
       "      <td>0.50</td>\n",
       "      <td>0.00</td>\n",
       "      <td>0.92</td>\n",
       "      <td>0.92</td>\n",
       "      <td>0.00</td>\n",
       "      <td>0.00</td>\n",
       "      <td>0.00</td>\n",
       "      <td>0.00</td>\n",
       "      <td>0.00</td>\n",
       "      <td>0.00</td>\n",
       "      <td>0.00</td>\n",
       "      <td>0.00</td>\n",
       "      <td>0.00</td>\n",
       "      <td>0.00</td>\n",
       "      <td>0.06</td>\n",
       "      <td>0.00</td>\n",
       "      <td>0.02</td>\n",
       "      <td>0.01</td>\n",
       "    </tr>\n",
       "    <tr>\n",
       "      <th>1</th>\n",
       "      <td>Random Forest</td>\n",
       "      <td>0.71</td>\n",
       "      <td>0.69</td>\n",
       "      <td>0.01</td>\n",
       "      <td>0.92</td>\n",
       "      <td>0.92</td>\n",
       "      <td>0.00</td>\n",
       "      <td>0.00</td>\n",
       "      <td>0.10</td>\n",
       "      <td>0.20</td>\n",
       "      <td>0.00</td>\n",
       "      <td>0.00</td>\n",
       "      <td>0.00</td>\n",
       "      <td>0.00</td>\n",
       "      <td>0.00</td>\n",
       "      <td>0.00</td>\n",
       "      <td>8.99</td>\n",
       "      <td>1.00</td>\n",
       "      <td>0.23</td>\n",
       "      <td>0.01</td>\n",
       "    </tr>\n",
       "    <tr>\n",
       "      <th>2</th>\n",
       "      <td>LightGBM</td>\n",
       "      <td>0.77</td>\n",
       "      <td>0.76</td>\n",
       "      <td>0.01</td>\n",
       "      <td>0.92</td>\n",
       "      <td>0.92</td>\n",
       "      <td>0.00</td>\n",
       "      <td>0.45</td>\n",
       "      <td>0.41</td>\n",
       "      <td>0.05</td>\n",
       "      <td>0.02</td>\n",
       "      <td>0.03</td>\n",
       "      <td>0.00</td>\n",
       "      <td>0.05</td>\n",
       "      <td>0.05</td>\n",
       "      <td>0.00</td>\n",
       "      <td>4.62</td>\n",
       "      <td>0.53</td>\n",
       "      <td>0.16</td>\n",
       "      <td>0.04</td>\n",
       "    </tr>\n",
       "    <tr>\n",
       "      <th>3</th>\n",
       "      <td>Gradient Boosting</td>\n",
       "      <td>0.76</td>\n",
       "      <td>0.76</td>\n",
       "      <td>0.01</td>\n",
       "      <td>0.92</td>\n",
       "      <td>0.92</td>\n",
       "      <td>0.00</td>\n",
       "      <td>0.61</td>\n",
       "      <td>0.42</td>\n",
       "      <td>0.04</td>\n",
       "      <td>0.02</td>\n",
       "      <td>0.02</td>\n",
       "      <td>0.00</td>\n",
       "      <td>0.04</td>\n",
       "      <td>0.03</td>\n",
       "      <td>0.01</td>\n",
       "      <td>124.67</td>\n",
       "      <td>0.39</td>\n",
       "      <td>0.19</td>\n",
       "      <td>0.00</td>\n",
       "    </tr>\n",
       "    <tr>\n",
       "      <th>4</th>\n",
       "      <td>Random Forest balanced</td>\n",
       "      <td>0.73</td>\n",
       "      <td>0.71</td>\n",
       "      <td>0.01</td>\n",
       "      <td>0.92</td>\n",
       "      <td>0.92</td>\n",
       "      <td>0.00</td>\n",
       "      <td>0.00</td>\n",
       "      <td>0.20</td>\n",
       "      <td>0.40</td>\n",
       "      <td>0.00</td>\n",
       "      <td>0.00</td>\n",
       "      <td>0.00</td>\n",
       "      <td>0.00</td>\n",
       "      <td>0.00</td>\n",
       "      <td>0.00</td>\n",
       "      <td>6.49</td>\n",
       "      <td>0.68</td>\n",
       "      <td>0.21</td>\n",
       "      <td>0.01</td>\n",
       "    </tr>\n",
       "    <tr>\n",
       "      <th>5</th>\n",
       "      <td>LightGBM balanced</td>\n",
       "      <td>0.76</td>\n",
       "      <td>0.76</td>\n",
       "      <td>0.01</td>\n",
       "      <td>0.78</td>\n",
       "      <td>0.79</td>\n",
       "      <td>0.01</td>\n",
       "      <td>0.20</td>\n",
       "      <td>0.20</td>\n",
       "      <td>0.01</td>\n",
       "      <td>0.57</td>\n",
       "      <td>0.55</td>\n",
       "      <td>0.02</td>\n",
       "      <td>0.29</td>\n",
       "      <td>0.29</td>\n",
       "      <td>0.01</td>\n",
       "      <td>5.48</td>\n",
       "      <td>0.36</td>\n",
       "      <td>0.23</td>\n",
       "      <td>0.01</td>\n",
       "    </tr>\n",
       "    <tr>\n",
       "      <th>6</th>\n",
       "      <td>Dummy Classifier OS</td>\n",
       "      <td>0.50</td>\n",
       "      <td>0.50</td>\n",
       "      <td>0.00</td>\n",
       "      <td>0.92</td>\n",
       "      <td>0.50</td>\n",
       "      <td>0.00</td>\n",
       "      <td>0.00</td>\n",
       "      <td>0.00</td>\n",
       "      <td>0.00</td>\n",
       "      <td>0.00</td>\n",
       "      <td>0.00</td>\n",
       "      <td>0.00</td>\n",
       "      <td>0.00</td>\n",
       "      <td>0.00</td>\n",
       "      <td>0.00</td>\n",
       "      <td>0.37</td>\n",
       "      <td>0.26</td>\n",
       "      <td>0.03</td>\n",
       "      <td>0.00</td>\n",
       "    </tr>\n",
       "    <tr>\n",
       "      <th>7</th>\n",
       "      <td>Random Forest OS</td>\n",
       "      <td>0.69</td>\n",
       "      <td>0.99</td>\n",
       "      <td>0.00</td>\n",
       "      <td>0.92</td>\n",
       "      <td>0.96</td>\n",
       "      <td>0.00</td>\n",
       "      <td>0.30</td>\n",
       "      <td>1.00</td>\n",
       "      <td>0.00</td>\n",
       "      <td>0.01</td>\n",
       "      <td>0.92</td>\n",
       "      <td>0.00</td>\n",
       "      <td>0.02</td>\n",
       "      <td>0.96</td>\n",
       "      <td>0.00</td>\n",
       "      <td>17.70</td>\n",
       "      <td>0.73</td>\n",
       "      <td>0.41</td>\n",
       "      <td>0.01</td>\n",
       "    </tr>\n",
       "    <tr>\n",
       "      <th>8</th>\n",
       "      <td>LightGBM OS</td>\n",
       "      <td>0.74</td>\n",
       "      <td>0.98</td>\n",
       "      <td>0.00</td>\n",
       "      <td>0.92</td>\n",
       "      <td>0.96</td>\n",
       "      <td>0.00</td>\n",
       "      <td>0.45</td>\n",
       "      <td>1.00</td>\n",
       "      <td>0.00</td>\n",
       "      <td>0.03</td>\n",
       "      <td>0.91</td>\n",
       "      <td>0.00</td>\n",
       "      <td>0.05</td>\n",
       "      <td>0.95</td>\n",
       "      <td>0.00</td>\n",
       "      <td>11.38</td>\n",
       "      <td>1.58</td>\n",
       "      <td>0.35</td>\n",
       "      <td>0.03</td>\n",
       "    </tr>\n",
       "    <tr>\n",
       "      <th>9</th>\n",
       "      <td>LightGBM OS Opt</td>\n",
       "      <td>0.72</td>\n",
       "      <td>0.98</td>\n",
       "      <td>0.00</td>\n",
       "      <td>0.91</td>\n",
       "      <td>0.95</td>\n",
       "      <td>0.00</td>\n",
       "      <td>0.31</td>\n",
       "      <td>0.99</td>\n",
       "      <td>0.00</td>\n",
       "      <td>0.06</td>\n",
       "      <td>0.92</td>\n",
       "      <td>0.00</td>\n",
       "      <td>0.10</td>\n",
       "      <td>0.95</td>\n",
       "      <td>0.00</td>\n",
       "      <td>261.97</td>\n",
       "      <td>56.79</td>\n",
       "      <td>1.03</td>\n",
       "      <td>0.07</td>\n",
       "    </tr>\n",
       "  </tbody>\n",
       "</table>\n",
       "</div>"
      ],
      "text/plain": [
       "                   Modèle  roc_auc  CV roc_auc mean  CV roc_auc std  accuracy  CV accuracy mean  \\\n",
       "0        Dummy Classifier     0.50             0.50            0.00      0.92              0.92   \n",
       "1           Random Forest     0.71             0.69            0.01      0.92              0.92   \n",
       "2                LightGBM     0.77             0.76            0.01      0.92              0.92   \n",
       "3       Gradient Boosting     0.76             0.76            0.01      0.92              0.92   \n",
       "4  Random Forest balanced     0.73             0.71            0.01      0.92              0.92   \n",
       "5       LightGBM balanced     0.76             0.76            0.01      0.78              0.79   \n",
       "6     Dummy Classifier OS     0.50             0.50            0.00      0.92              0.50   \n",
       "7        Random Forest OS     0.69             0.99            0.00      0.92              0.96   \n",
       "8             LightGBM OS     0.74             0.98            0.00      0.92              0.96   \n",
       "9         LightGBM OS Opt     0.72             0.98            0.00      0.91              0.95   \n",
       "\n",
       "   CV accuracy std  precision  CV precision mean  CV precision std  recall  CV recall mean  \\\n",
       "0             0.00       0.00               0.00              0.00    0.00            0.00   \n",
       "1             0.00       0.00               0.10              0.20    0.00            0.00   \n",
       "2             0.00       0.45               0.41              0.05    0.02            0.03   \n",
       "3             0.00       0.61               0.42              0.04    0.02            0.02   \n",
       "4             0.00       0.00               0.20              0.40    0.00            0.00   \n",
       "5             0.01       0.20               0.20              0.01    0.57            0.55   \n",
       "6             0.00       0.00               0.00              0.00    0.00            0.00   \n",
       "7             0.00       0.30               1.00              0.00    0.01            0.92   \n",
       "8             0.00       0.45               1.00              0.00    0.03            0.91   \n",
       "9             0.00       0.31               0.99              0.00    0.06            0.92   \n",
       "\n",
       "   CV recall std   f1  CV f1 mean  CV f1 std  CV fit_time mean  CV fit_time std  \\\n",
       "0           0.00 0.00        0.00       0.00              0.06             0.00   \n",
       "1           0.00 0.00        0.00       0.00              8.99             1.00   \n",
       "2           0.00 0.05        0.05       0.00              4.62             0.53   \n",
       "3           0.00 0.04        0.03       0.01            124.67             0.39   \n",
       "4           0.00 0.00        0.00       0.00              6.49             0.68   \n",
       "5           0.02 0.29        0.29       0.01              5.48             0.36   \n",
       "6           0.00 0.00        0.00       0.00              0.37             0.26   \n",
       "7           0.00 0.02        0.96       0.00             17.70             0.73   \n",
       "8           0.00 0.05        0.95       0.00             11.38             1.58   \n",
       "9           0.00 0.10        0.95       0.00            261.97            56.79   \n",
       "\n",
       "   CV score_time mean  CV score_time std  \n",
       "0                0.02               0.01  \n",
       "1                0.23               0.01  \n",
       "2                0.16               0.04  \n",
       "3                0.19               0.00  \n",
       "4                0.21               0.01  \n",
       "5                0.23               0.01  \n",
       "6                0.03               0.00  \n",
       "7                0.41               0.01  \n",
       "8                0.35               0.03  \n",
       "9                1.03               0.07  "
      ]
     },
     "execution_count": 165,
     "metadata": {},
     "output_type": "execute_result"
    }
   ],
   "source": [
    "# Dressons la liste de toutes les modèles étudiés :\n",
    "resultats_evaluation"
   ]
  },
  {
   "cell_type": "markdown",
   "id": "ce48923b",
   "metadata": {},
   "source": [
    "## Interprétabilité du modèle\n",
    "Nous nous intéressons ici à l'interprétabilité globale du modèle en observant le poids que le modèle à déterminé pour chaque variable lors de son entraînement."
   ]
  },
  {
   "cell_type": "code",
   "execution_count": 167,
   "id": "de526504",
   "metadata": {},
   "outputs": [],
   "source": [
    "# Fixons le modèle choisi au cours des évaluations précédentes :\n",
    "# (LightGBM sur le jeu de données d'entraînement suréchantillonné et avec les hyperparamètres optimisés)\n",
    "modele_choisi = liste_modeles[9]['modele']"
   ]
  },
  {
   "cell_type": "code",
   "execution_count": 168,
   "id": "a23e64c8",
   "metadata": {},
   "outputs": [],
   "source": [
    "df_fi = pd.DataFrame({\n",
    "                    \"feature name\":modele_choisi.feature_name_,\n",
    "                    \"feature importance\":modele_choisi.feature_importances_\n",
    "                     })"
   ]
  },
  {
   "cell_type": "code",
   "execution_count": 169,
   "id": "3e5d6c74",
   "metadata": {
    "scrolled": false
   },
   "outputs": [
    {
     "data": {
      "image/png": "[encoded data removed]",
      "text/plain": [
       "<Figure size 864x720 with 1 Axes>"
      ]
     },
     "metadata": {
      "needs_background": "light"
     },
     "output_type": "display_data"
    }
   ],
   "source": [
    "nb_var = 30\n",
    "plt.figure(figsize=(12, 10))\n",
    "sns.barplot(x=\"feature importance\",\n",
    "            y=\"feature name\",\n",
    "            data=df_fi.sort_values(by='feature importance', ascending=False).head(nb_var),\n",
    "            palette='viridis_r'\n",
    "           )\n",
    "plt.title(f\"Top {nb_var} de l'importance globale des variables dans le modèle\", fontsize=15)\n",
    "plt.show()"
   ]
  },
  {
   "cell_type": "code",
   "execution_count": 102,
   "id": "bd4f3c7b",
   "metadata": {
    "scrolled": false
   },
   "outputs": [
    {
     "data": {
      "image/png": "[encoded data removed]",
      "text/plain": [
       "<Figure size 864x720 with 1 Axes>"
      ]
     },
     "metadata": {
      "needs_background": "light"
     },
     "output_type": "display_data"
    }
   ],
   "source": [
    "# Données pour comparaison - Feature Importance du modèle LightGBM par défaut.\n",
    "# L'importance des variables et leur poids a changé.\n",
    "#\n",
    "# nb_var = 30\n",
    "# plt.figure(figsize=(12, 10))\n",
    "# sns.barplot(x=\"feature importance\",\n",
    "#             y=\"feature name\",\n",
    "#             data=df_fi.sort_values(by='feature importance', ascending=False).head(nb_var),\n",
    "#             palette='viridis_r'\n",
    "#            )\n",
    "# plt.title(f\"Top {nb_var} de l'importance globale des variables dans le modèle\", fontsize=15)\n",
    "# plt.show()"
   ]
  },
  {
   "cell_type": "markdown",
   "id": "2677d7d5",
   "metadata": {},
   "source": [
    "## Entraînement final et sauvegarde"
   ]
  },
  {
   "cell_type": "markdown",
   "id": "16dffb3e",
   "metadata": {},
   "source": [
    "### Modèle"
   ]
  },
  {
   "cell_type": "code",
   "execution_count": 170,
   "id": "9e36d3b5",
   "metadata": {},
   "outputs": [
    {
     "data": {
      "text/plain": [
       "{'nom_modele': 'LightGBM OS Opt',\n",
       " 'modele': LGBMClassifier(colsample_bytree=1, learning_rate=0.2,\n",
       "                min_child_weight=39.3259775, min_split_gain=0.0222415,\n",
       "                n_estimators=10000, num_leaves=34, random_state=82,\n",
       "                reg_alpha=0.041545473, reg_lambda=0.0735294,\n",
       "                subsample=0.8715623),\n",
       " 'y_pred': array([0., 0., 0., ..., 0., 0., 0.]),\n",
       " 'y_proba': array([0.00183508, 0.00050379, 0.03434255, ..., 0.00040058, 0.0021201 ,\n",
       "        0.00010207]),\n",
       " 'y_pred_threshold': array([0, 0, 1, ..., 0, 0, 0]),\n",
       " 'roc_auc': 0.7235222966852154,\n",
       " 'seuil ROC': 0.00826078173759799,\n",
       " 'seuil PR': 1.0607826384474809e-05}"
      ]
     },
     "execution_count": 170,
     "metadata": {},
     "output_type": "execute_result"
    }
   ],
   "source": [
    "# Utilisation du modèle lightgbm tel qu'entraîné sur le jeu de données sur-échantillonné\n",
    "# avec des hyperparamètres optimisés :\n",
    "liste_modeles[9]"
   ]
  },
  {
   "cell_type": "code",
   "execution_count": 171,
   "id": "4ea9ab7d",
   "metadata": {},
   "outputs": [
    {
     "data": {
      "text/plain": [
       "['.data/modele_api.joblib']"
      ]
     },
     "execution_count": 171,
     "metadata": {},
     "output_type": "execute_result"
    }
   ],
   "source": [
    "# Export du modèle au format joblib :\n",
    "joblib.dump(liste_modeles[9]['modele'], os.path.join(data_dir, modele_prod))"
   ]
  },
  {
   "cell_type": "markdown",
   "id": "b56b456a",
   "metadata": {},
   "source": [
    "### Données API\n",
    "#### Échantillonnage\n",
    "Nous allons créer un échantillon de 10 000 individus de notre jeu de données d'entraînement initial pour pouvoir tester l'API et le tableau de bord."
   ]
  },
  {
   "cell_type": "code",
   "execution_count": 172,
   "id": "a65cfc5a",
   "metadata": {},
   "outputs": [],
   "source": [
    "X_api = X.sample(n=10000, random_state=random_state)"
   ]
  },
  {
   "cell_type": "code",
   "execution_count": 173,
   "id": "12ae2403",
   "metadata": {},
   "outputs": [],
   "source": [
    "y_api = y[X_api.index]"
   ]
  },
  {
   "cell_type": "code",
   "execution_count": 176,
   "id": "37fec444",
   "metadata": {},
   "outputs": [
    {
     "data": {
      "text/html": [
       "<div>\n",
       "<style scoped>\n",
       "    .dataframe tbody tr th:only-of-type {\n",
       "        vertical-align: middle;\n",
       "    }\n",
       "\n",
       "    .dataframe tbody tr th {\n",
       "        vertical-align: top;\n",
       "    }\n",
       "\n",
       "    .dataframe thead th {\n",
       "        text-align: right;\n",
       "    }\n",
       "</style>\n",
       "<table border=\"1\" class=\"dataframe\">\n",
       "  <thead>\n",
       "    <tr style=\"text-align: right;\">\n",
       "      <th></th>\n",
       "      <th>Individus</th>\n",
       "      <th>% du total</th>\n",
       "    </tr>\n",
       "  </thead>\n",
       "  <tbody>\n",
       "    <tr>\n",
       "      <th>0.00</th>\n",
       "      <td>9212</td>\n",
       "      <td>92.12</td>\n",
       "    </tr>\n",
       "    <tr>\n",
       "      <th>1.00</th>\n",
       "      <td>788</td>\n",
       "      <td>7.88</td>\n",
       "    </tr>\n",
       "  </tbody>\n",
       "</table>\n",
       "</div>"
      ],
      "text/plain": [
       "      Individus  % du total\n",
       "0.00       9212       92.12\n",
       "1.00        788        7.88"
      ]
     },
     "metadata": {},
     "output_type": "display_data"
    },
    {
     "data": {
      "image/png": "[encoded data removed]",
      "text/plain": [
       "<Figure size 432x288 with 1 Axes>"
      ]
     },
     "metadata": {
      "needs_background": "light"
     },
     "output_type": "display_data"
    }
   ],
   "source": [
    "# Vérifions la répartition de la variable cible dans l'échantillon :\n",
    "graph_repartition(y_api)"
   ]
  },
  {
   "cell_type": "markdown",
   "id": "48d6b6f0",
   "metadata": {},
   "source": [
    "Les classes de la variable cible sont réparties selon les bonnes proportions."
   ]
  },
  {
   "cell_type": "markdown",
   "id": "a61144c0",
   "metadata": {},
   "source": [
    "#### Classement par  SK_ID_CURR\n",
    "Afin d'améliorer l'affichage de la liste des numéros de dossier client (SK_ID_CURR) lors de l'affichage par le tableau de bord, classons le DataFrame par `SK_ID_CURR` croissant avant sa sauvegarde. Sans cette action, les numéros de dossier seront affichés dans le désordre par la liste déroulante du tableau de bord qui présente les dossiers consultables."
   ]
  },
  {
   "cell_type": "code",
   "execution_count": 248,
   "id": "feb98cb6",
   "metadata": {},
   "outputs": [],
   "source": [
    "# Réintégrons certaines variables dans le DataFrame destiné à l'API pour pouvoir les fournirau tableau de bord:\n",
    "# - SK_ID_CURR pour l'affichage du numéro de dossier.\n",
    "# - TARGET pour l'affichage des différentes classes de la variable à prédire dans les graphiques.\n",
    "X_api[['SK_ID_CURR', 'TARGET']] = df_fraction[['SK_ID_CURR', 'TARGET']]"
   ]
  },
  {
   "cell_type": "code",
   "execution_count": 250,
   "id": "92d551d2",
   "metadata": {},
   "outputs": [],
   "source": [
    "# Classement du DataFrame par SK_ID_CURR croissant:\n",
    "X_api.sort_values(by='SK_ID_CURR', inplace=True)"
   ]
  },
  {
   "cell_type": "code",
   "execution_count": 251,
   "id": "f7533771",
   "metadata": {},
   "outputs": [],
   "source": [
    "# Sauvegardons l'échantillon à destination de l'API :\n",
    "X_api.reset_index(drop=True).to_feather(os.path.join(data_dir, donnees_prod))"
   ]
  },
  {
   "cell_type": "markdown",
   "id": "9da6d043",
   "metadata": {},
   "source": [
    "### Données tableau de board\n",
    "À partir des données sélectionnées pour le fonctionnement de l'API, nous préparons ici un jeu de données pour le test du tableau de bord. En effet, nous souhaitons avoir dès à présent une liste des individus prédits comme étant en défaut, de façon à ne pas avoir à chercher au hasard les 8% d'individus potentiellement en défaut.\n",
    "Cette liste nous permettra de pouvoir tester facilement les deux cas de prédictions possibles (en défaut ou non) au niveau du rendu du tableau de bord."
   ]
  },
  {
   "cell_type": "code",
   "execution_count": 237,
   "id": "ea019ba9",
   "metadata": {},
   "outputs": [],
   "source": [
    "# Prédiction des individus en défaut de paiement pour pouvoir les utiliser lors du test du tableau de bord :\n",
    "# (sans SK_ID_CURR)\n",
    "y_pred_api = modele_choisi.predict(X_api[var_predictives])"
   ]
  },
  {
   "cell_type": "code",
   "execution_count": 238,
   "id": "9ec52fd5",
   "metadata": {},
   "outputs": [],
   "source": [
    "df_api = X_api.copy()"
   ]
  },
  {
   "cell_type": "code",
   "execution_count": 240,
   "id": "a97dea1e",
   "metadata": {},
   "outputs": [],
   "source": [
    "# Ajout des prédictions\n",
    "df_api['TARGET_pred'] = y_pred_api"
   ]
  },
  {
   "cell_type": "code",
   "execution_count": 242,
   "id": "b1fe5cc6",
   "metadata": {},
   "outputs": [],
   "source": [
    "# Sélection des clients en défaut uniquement\n",
    "clients_predits_en_defaut = df_api[df_api['TARGET_pred']==1]"
   ]
  },
  {
   "cell_type": "code",
   "execution_count": 243,
   "id": "f8e8e11c",
   "metadata": {},
   "outputs": [
    {
     "data": {
      "text/plain": [
       "(659, 545)"
      ]
     },
     "execution_count": 243,
     "metadata": {},
     "output_type": "execute_result"
    }
   ],
   "source": [
    "clients_predits_en_defaut.shape"
   ]
  },
  {
   "cell_type": "code",
   "execution_count": 244,
   "id": "3d44ed08",
   "metadata": {},
   "outputs": [
    {
     "data": {
      "text/html": [
       "<div>\n",
       "<style scoped>\n",
       "    .dataframe tbody tr th:only-of-type {\n",
       "        vertical-align: middle;\n",
       "    }\n",
       "\n",
       "    .dataframe tbody tr th {\n",
       "        vertical-align: top;\n",
       "    }\n",
       "\n",
       "    .dataframe thead th {\n",
       "        text-align: right;\n",
       "    }\n",
       "</style>\n",
       "<table border=\"1\" class=\"dataframe\">\n",
       "  <thead>\n",
       "    <tr style=\"text-align: right;\">\n",
       "      <th></th>\n",
       "      <th>SK_ID_CURR</th>\n",
       "      <th>TARGET</th>\n",
       "      <th>TARGET_pred</th>\n",
       "    </tr>\n",
       "  </thead>\n",
       "  <tbody>\n",
       "    <tr>\n",
       "      <th>279029</th>\n",
       "      <td>423269</td>\n",
       "      <td>1.00</td>\n",
       "      <td>1.00</td>\n",
       "    </tr>\n",
       "    <tr>\n",
       "      <th>224946</th>\n",
       "      <td>360560</td>\n",
       "      <td>1.00</td>\n",
       "      <td>1.00</td>\n",
       "    </tr>\n",
       "    <tr>\n",
       "      <th>307000</th>\n",
       "      <td>455684</td>\n",
       "      <td>1.00</td>\n",
       "      <td>1.00</td>\n",
       "    </tr>\n",
       "    <tr>\n",
       "      <th>123503</th>\n",
       "      <td>243227</td>\n",
       "      <td>1.00</td>\n",
       "      <td>1.00</td>\n",
       "    </tr>\n",
       "    <tr>\n",
       "      <th>47894</th>\n",
       "      <td>155471</td>\n",
       "      <td>1.00</td>\n",
       "      <td>1.00</td>\n",
       "    </tr>\n",
       "    <tr>\n",
       "      <th>220230</th>\n",
       "      <td>355134</td>\n",
       "      <td>1.00</td>\n",
       "      <td>1.00</td>\n",
       "    </tr>\n",
       "    <tr>\n",
       "      <th>64791</th>\n",
       "      <td>175140</td>\n",
       "      <td>1.00</td>\n",
       "      <td>1.00</td>\n",
       "    </tr>\n",
       "    <tr>\n",
       "      <th>201275</th>\n",
       "      <td>333310</td>\n",
       "      <td>1.00</td>\n",
       "      <td>1.00</td>\n",
       "    </tr>\n",
       "    <tr>\n",
       "      <th>296739</th>\n",
       "      <td>443800</td>\n",
       "      <td>1.00</td>\n",
       "      <td>1.00</td>\n",
       "    </tr>\n",
       "    <tr>\n",
       "      <th>135873</th>\n",
       "      <td>257603</td>\n",
       "      <td>1.00</td>\n",
       "      <td>1.00</td>\n",
       "    </tr>\n",
       "  </tbody>\n",
       "</table>\n",
       "</div>"
      ],
      "text/plain": [
       "        SK_ID_CURR  TARGET  TARGET_pred\n",
       "279029      423269    1.00         1.00\n",
       "224946      360560    1.00         1.00\n",
       "307000      455684    1.00         1.00\n",
       "123503      243227    1.00         1.00\n",
       "47894       155471    1.00         1.00\n",
       "220230      355134    1.00         1.00\n",
       "64791       175140    1.00         1.00\n",
       "201275      333310    1.00         1.00\n",
       "296739      443800    1.00         1.00\n",
       "135873      257603    1.00         1.00"
      ]
     },
     "execution_count": 244,
     "metadata": {},
     "output_type": "execute_result"
    }
   ],
   "source": [
    "# Affichage d'un échantillon de 10 individus en defaut :\n",
    "df_api.loc[df_api['TARGET_pred']==1, ['SK_ID_CURR','TARGET','TARGET_pred']].sample(n=10)"
   ]
  },
  {
   "cell_type": "code",
   "execution_count": 245,
   "id": "c82092a0",
   "metadata": {},
   "outputs": [
    {
     "data": {
      "text/html": [
       "<div>\n",
       "<style scoped>\n",
       "    .dataframe tbody tr th:only-of-type {\n",
       "        vertical-align: middle;\n",
       "    }\n",
       "\n",
       "    .dataframe tbody tr th {\n",
       "        vertical-align: top;\n",
       "    }\n",
       "\n",
       "    .dataframe thead th {\n",
       "        text-align: right;\n",
       "    }\n",
       "</style>\n",
       "<table border=\"1\" class=\"dataframe\">\n",
       "  <thead>\n",
       "    <tr style=\"text-align: right;\">\n",
       "      <th></th>\n",
       "      <th>SK_ID_CURR</th>\n",
       "      <th>TARGET</th>\n",
       "      <th>TARGET_pred</th>\n",
       "    </tr>\n",
       "  </thead>\n",
       "  <tbody>\n",
       "    <tr>\n",
       "      <th>235</th>\n",
       "      <td>100273</td>\n",
       "      <td>1.00</td>\n",
       "      <td>1.00</td>\n",
       "    </tr>\n",
       "    <tr>\n",
       "      <th>534</th>\n",
       "      <td>100616</td>\n",
       "      <td>1.00</td>\n",
       "      <td>1.00</td>\n",
       "    </tr>\n",
       "    <tr>\n",
       "      <th>2489</th>\n",
       "      <td>102903</td>\n",
       "      <td>1.00</td>\n",
       "      <td>1.00</td>\n",
       "    </tr>\n",
       "    <tr>\n",
       "      <th>3034</th>\n",
       "      <td>103543</td>\n",
       "      <td>1.00</td>\n",
       "      <td>1.00</td>\n",
       "    </tr>\n",
       "    <tr>\n",
       "      <th>3557</th>\n",
       "      <td>104157</td>\n",
       "      <td>1.00</td>\n",
       "      <td>1.00</td>\n",
       "    </tr>\n",
       "    <tr>\n",
       "      <th>4105</th>\n",
       "      <td>104800</td>\n",
       "      <td>1.00</td>\n",
       "      <td>1.00</td>\n",
       "    </tr>\n",
       "    <tr>\n",
       "      <th>4824</th>\n",
       "      <td>105639</td>\n",
       "      <td>1.00</td>\n",
       "      <td>1.00</td>\n",
       "    </tr>\n",
       "    <tr>\n",
       "      <th>5089</th>\n",
       "      <td>105946</td>\n",
       "      <td>1.00</td>\n",
       "      <td>1.00</td>\n",
       "    </tr>\n",
       "    <tr>\n",
       "      <th>5622</th>\n",
       "      <td>106578</td>\n",
       "      <td>1.00</td>\n",
       "      <td>1.00</td>\n",
       "    </tr>\n",
       "    <tr>\n",
       "      <th>7473</th>\n",
       "      <td>108714</td>\n",
       "      <td>1.00</td>\n",
       "      <td>1.00</td>\n",
       "    </tr>\n",
       "  </tbody>\n",
       "</table>\n",
       "</div>"
      ],
      "text/plain": [
       "      SK_ID_CURR  TARGET  TARGET_pred\n",
       "235       100273    1.00         1.00\n",
       "534       100616    1.00         1.00\n",
       "2489      102903    1.00         1.00\n",
       "3034      103543    1.00         1.00\n",
       "3557      104157    1.00         1.00\n",
       "4105      104800    1.00         1.00\n",
       "4824      105639    1.00         1.00\n",
       "5089      105946    1.00         1.00\n",
       "5622      106578    1.00         1.00\n",
       "7473      108714    1.00         1.00"
      ]
     },
     "execution_count": 245,
     "metadata": {},
     "output_type": "execute_result"
    }
   ],
   "source": [
    "# Affichage de 10 individus en defaut en les classant par SK_ID_CURR croissant :\n",
    "clients_predits_en_defaut[['SK_ID_CURR','TARGET','TARGET_pred']].head(10)"
   ]
  },
  {
   "cell_type": "code",
   "execution_count": 246,
   "id": "5dd45aae",
   "metadata": {},
   "outputs": [],
   "source": [
    "# Sauvegarde de la liste des clients prédits en défaut pour éventuelle consultation ultérieure :\n",
    "clients_predits_en_defaut.reset_index(drop=True).to_feather(os.path.join(data_dir, clients_pred_defaut))"
   ]
  }
 ],
 "metadata": {
  "kernelspec": {
   "display_name": "Flask",
   "language": "python",
   "name": "flask"
  },
  "language_info": {
   "codemirror_mode": {
    "name": "ipython",
    "version": 3
   },
   "file_extension": ".py",
   "mimetype": "text/x-python",
   "name": "python",
   "nbconvert_exporter": "python",
   "pygments_lexer": "ipython3",
   "version": "3.10.4"
  },
  "toc": {
   "base_numbering": 1,
   "nav_menu": {},
   "number_sections": true,
   "sideBar": true,
   "skip_h1_title": true,
   "title_cell": "Sommaire",
   "title_sidebar": "Contents",
   "toc_cell": false,
   "toc_position": {
    "height": "calc(100% - 180px)",
    "left": "10px",
    "top": "150px",
    "width": "352px"
   },
   "toc_section_display": true,
   "toc_window_display": true
  },
  "varInspector": {
   "cols": {
    "lenName": 16,
    "lenType": 16,
    "lenVar": 40
   },
   "kernels_config": {
    "python": {
     "delete_cmd_postfix": "",
     "delete_cmd_prefix": "del ",
     "library": "var_list.py",
     "varRefreshCmd": "print(var_dic_list())"
    },
    "r": {
     "delete_cmd_postfix": ") ",
     "delete_cmd_prefix": "rm(",
     "library": "var_list.r",
     "varRefreshCmd": "cat(var_dic_list()) "
    }
   },
   "types_to_exclude": [
    "module",
    "function",
    "builtin_function_or_method",
    "instance",
    "_Feature"
   ],
   "window_display": false
  }
 },
 "nbformat": 4,
 "nbformat_minor": 5
}
